{
 "cells": [
  {
   "cell_type": "code",
   "execution_count": 1,
   "id": "83842de4",
   "metadata": {
    "_cell_guid": "b1076dfc-b9ad-4769-8c92-a6c4dae69d19",
    "_uuid": "8f2839f25d086af736a60e9eeb907d3b93b6e0e5",
    "execution": {
     "iopub.execute_input": "2023-05-30T09:31:19.407739Z",
     "iopub.status.busy": "2023-05-30T09:31:19.407409Z",
     "iopub.status.idle": "2023-05-30T09:31:20.959695Z",
     "shell.execute_reply": "2023-05-30T09:31:20.958752Z"
    },
    "papermill": {
     "duration": 1.569817,
     "end_time": "2023-05-30T09:31:20.961980",
     "exception": false,
     "start_time": "2023-05-30T09:31:19.392163",
     "status": "completed"
    },
    "tags": []
   },
   "outputs": [],
   "source": [
    "# This Python 3 environment comes with many helpful analytics libraries installed\n",
    "# It is defined by the kaggle/python Docker image: https://github.com/kaggle/docker-python\n",
    "# For example, here's several helpful packages to load\n",
    "\n",
    "import numpy as np # linear algebra\n",
    "import pandas as pd # data processing, CSV file I/O (e.g. pd.read_csv)\n",
    "import seaborn as sns\n",
    "import xgboost as xgb\n",
    "import matplotlib.pyplot as plt\n",
    "import warnings\n",
    "warnings.filterwarnings('ignore')\n",
    "# Input data files are available in the read-only \"../input/\" directory\n",
    "# For example, running this (by clicking run or pressing Shift+Enter) will list all files under the input directory\n"
   ]
  },
  {
   "cell_type": "markdown",
   "id": "bb4bbc56",
   "metadata": {
    "papermill": {
     "duration": 0.013295,
     "end_time": "2023-05-30T09:31:20.989074",
     "exception": false,
     "start_time": "2023-05-30T09:31:20.975779",
     "status": "completed"
    },
    "tags": []
   },
   "source": [
    "# Reading the dataset"
   ]
  },
  {
   "cell_type": "code",
   "execution_count": 2,
   "id": "fde1c97d",
   "metadata": {
    "execution": {
     "iopub.execute_input": "2023-05-30T09:31:21.017997Z",
     "iopub.status.busy": "2023-05-30T09:31:21.017492Z",
     "iopub.status.idle": "2023-05-30T09:31:21.083450Z",
     "shell.execute_reply": "2023-05-30T09:31:21.082620Z"
    },
    "papermill": {
     "duration": 0.082199,
     "end_time": "2023-05-30T09:31:21.084934",
     "exception": false,
     "start_time": "2023-05-30T09:31:21.002735",
     "status": "completed"
    },
    "tags": []
   },
   "outputs": [
    {
     "data": {
      "text/html": [
       "<div>\n",
       "<style scoped>\n",
       "    .dataframe tbody tr th:only-of-type {\n",
       "        vertical-align: middle;\n",
       "    }\n",
       "\n",
       "    .dataframe tbody tr th {\n",
       "        vertical-align: top;\n",
       "    }\n",
       "\n",
       "    .dataframe thead th {\n",
       "        text-align: right;\n",
       "    }\n",
       "</style>\n",
       "<table border=\"1\" class=\"dataframe\">\n",
       "  <thead>\n",
       "    <tr style=\"text-align: right;\">\n",
       "      <th></th>\n",
       "      <th>ID</th>\n",
       "      <th>A1_Score</th>\n",
       "      <th>A2_Score</th>\n",
       "      <th>A3_Score</th>\n",
       "      <th>A4_Score</th>\n",
       "      <th>A5_Score</th>\n",
       "      <th>A6_Score</th>\n",
       "      <th>A7_Score</th>\n",
       "      <th>A8_Score</th>\n",
       "      <th>A9_Score</th>\n",
       "      <th>...</th>\n",
       "      <th>gender</th>\n",
       "      <th>ethnicity</th>\n",
       "      <th>jaundice</th>\n",
       "      <th>austim</th>\n",
       "      <th>contry_of_res</th>\n",
       "      <th>used_app_before</th>\n",
       "      <th>result</th>\n",
       "      <th>age_desc</th>\n",
       "      <th>relation</th>\n",
       "      <th>Class/ASD</th>\n",
       "    </tr>\n",
       "  </thead>\n",
       "  <tbody>\n",
       "    <tr>\n",
       "      <th>0</th>\n",
       "      <td>1</td>\n",
       "      <td>1</td>\n",
       "      <td>0</td>\n",
       "      <td>1</td>\n",
       "      <td>1</td>\n",
       "      <td>1</td>\n",
       "      <td>1</td>\n",
       "      <td>0</td>\n",
       "      <td>1</td>\n",
       "      <td>1</td>\n",
       "      <td>...</td>\n",
       "      <td>f</td>\n",
       "      <td>White-European</td>\n",
       "      <td>no</td>\n",
       "      <td>no</td>\n",
       "      <td>United States</td>\n",
       "      <td>no</td>\n",
       "      <td>7.819715</td>\n",
       "      <td>18 and more</td>\n",
       "      <td>Self</td>\n",
       "      <td>0</td>\n",
       "    </tr>\n",
       "    <tr>\n",
       "      <th>1</th>\n",
       "      <td>2</td>\n",
       "      <td>0</td>\n",
       "      <td>0</td>\n",
       "      <td>0</td>\n",
       "      <td>0</td>\n",
       "      <td>0</td>\n",
       "      <td>0</td>\n",
       "      <td>0</td>\n",
       "      <td>0</td>\n",
       "      <td>0</td>\n",
       "      <td>...</td>\n",
       "      <td>f</td>\n",
       "      <td>South Asian</td>\n",
       "      <td>no</td>\n",
       "      <td>no</td>\n",
       "      <td>Australia</td>\n",
       "      <td>no</td>\n",
       "      <td>10.544296</td>\n",
       "      <td>18 and more</td>\n",
       "      <td>?</td>\n",
       "      <td>0</td>\n",
       "    </tr>\n",
       "    <tr>\n",
       "      <th>2</th>\n",
       "      <td>3</td>\n",
       "      <td>1</td>\n",
       "      <td>1</td>\n",
       "      <td>1</td>\n",
       "      <td>1</td>\n",
       "      <td>1</td>\n",
       "      <td>1</td>\n",
       "      <td>0</td>\n",
       "      <td>0</td>\n",
       "      <td>1</td>\n",
       "      <td>...</td>\n",
       "      <td>f</td>\n",
       "      <td>White-European</td>\n",
       "      <td>no</td>\n",
       "      <td>no</td>\n",
       "      <td>United Kingdom</td>\n",
       "      <td>no</td>\n",
       "      <td>13.167506</td>\n",
       "      <td>18 and more</td>\n",
       "      <td>Self</td>\n",
       "      <td>1</td>\n",
       "    </tr>\n",
       "    <tr>\n",
       "      <th>3</th>\n",
       "      <td>4</td>\n",
       "      <td>0</td>\n",
       "      <td>0</td>\n",
       "      <td>0</td>\n",
       "      <td>1</td>\n",
       "      <td>0</td>\n",
       "      <td>0</td>\n",
       "      <td>0</td>\n",
       "      <td>0</td>\n",
       "      <td>0</td>\n",
       "      <td>...</td>\n",
       "      <td>f</td>\n",
       "      <td>South Asian</td>\n",
       "      <td>no</td>\n",
       "      <td>no</td>\n",
       "      <td>New Zealand</td>\n",
       "      <td>no</td>\n",
       "      <td>1.530098</td>\n",
       "      <td>18 and more</td>\n",
       "      <td>?</td>\n",
       "      <td>0</td>\n",
       "    </tr>\n",
       "    <tr>\n",
       "      <th>4</th>\n",
       "      <td>5</td>\n",
       "      <td>0</td>\n",
       "      <td>0</td>\n",
       "      <td>0</td>\n",
       "      <td>0</td>\n",
       "      <td>1</td>\n",
       "      <td>0</td>\n",
       "      <td>0</td>\n",
       "      <td>0</td>\n",
       "      <td>1</td>\n",
       "      <td>...</td>\n",
       "      <td>m</td>\n",
       "      <td>Black</td>\n",
       "      <td>no</td>\n",
       "      <td>yes</td>\n",
       "      <td>Italy</td>\n",
       "      <td>no</td>\n",
       "      <td>7.949723</td>\n",
       "      <td>18 and more</td>\n",
       "      <td>Self</td>\n",
       "      <td>0</td>\n",
       "    </tr>\n",
       "  </tbody>\n",
       "</table>\n",
       "<p>5 rows × 22 columns</p>\n",
       "</div>"
      ],
      "text/plain": [
       "   ID  A1_Score  A2_Score  A3_Score  A4_Score  A5_Score  A6_Score  A7_Score  \\\n",
       "0   1         1         0         1         1         1         1         0   \n",
       "1   2         0         0         0         0         0         0         0   \n",
       "2   3         1         1         1         1         1         1         0   \n",
       "3   4         0         0         0         1         0         0         0   \n",
       "4   5         0         0         0         0         1         0         0   \n",
       "\n",
       "   A8_Score  A9_Score  ...  gender       ethnicity jaundice austim  \\\n",
       "0         1         1  ...       f  White-European       no     no   \n",
       "1         0         0  ...       f     South Asian       no     no   \n",
       "2         0         1  ...       f  White-European       no     no   \n",
       "3         0         0  ...       f     South Asian       no     no   \n",
       "4         0         1  ...       m           Black       no    yes   \n",
       "\n",
       "    contry_of_res used_app_before     result     age_desc  relation Class/ASD  \n",
       "0   United States              no   7.819715  18 and more      Self         0  \n",
       "1       Australia              no  10.544296  18 and more         ?         0  \n",
       "2  United Kingdom              no  13.167506  18 and more      Self         1  \n",
       "3     New Zealand              no   1.530098  18 and more         ?         0  \n",
       "4           Italy              no   7.949723  18 and more      Self         0  \n",
       "\n",
       "[5 rows x 22 columns]"
      ]
     },
     "execution_count": 2,
     "metadata": {},
     "output_type": "execute_result"
    }
   ],
   "source": [
    "train=pd.read_csv(\"../input/autism-prediction/Autism-prediction/train.csv\")\n",
    "test=pd.read_csv(\"../input/autism-prediction/Autism-prediction/test.csv\")\n",
    "\n",
    "\n",
    "train.head()\n"
   ]
  },
  {
   "cell_type": "code",
   "execution_count": 3,
   "id": "ece56483",
   "metadata": {
    "execution": {
     "iopub.execute_input": "2023-05-30T09:31:21.114142Z",
     "iopub.status.busy": "2023-05-30T09:31:21.113591Z",
     "iopub.status.idle": "2023-05-30T09:31:21.129986Z",
     "shell.execute_reply": "2023-05-30T09:31:21.129091Z"
    },
    "papermill": {
     "duration": 0.033181,
     "end_time": "2023-05-30T09:31:21.131860",
     "exception": false,
     "start_time": "2023-05-30T09:31:21.098679",
     "status": "completed"
    },
    "tags": []
   },
   "outputs": [
    {
     "data": {
      "text/html": [
       "<div>\n",
       "<style scoped>\n",
       "    .dataframe tbody tr th:only-of-type {\n",
       "        vertical-align: middle;\n",
       "    }\n",
       "\n",
       "    .dataframe tbody tr th {\n",
       "        vertical-align: top;\n",
       "    }\n",
       "\n",
       "    .dataframe thead th {\n",
       "        text-align: right;\n",
       "    }\n",
       "</style>\n",
       "<table border=\"1\" class=\"dataframe\">\n",
       "  <thead>\n",
       "    <tr style=\"text-align: right;\">\n",
       "      <th></th>\n",
       "      <th>ID</th>\n",
       "      <th>A1_Score</th>\n",
       "      <th>A2_Score</th>\n",
       "      <th>A3_Score</th>\n",
       "      <th>A4_Score</th>\n",
       "      <th>A5_Score</th>\n",
       "      <th>A6_Score</th>\n",
       "      <th>A7_Score</th>\n",
       "      <th>A8_Score</th>\n",
       "      <th>A9_Score</th>\n",
       "      <th>...</th>\n",
       "      <th>age</th>\n",
       "      <th>gender</th>\n",
       "      <th>ethnicity</th>\n",
       "      <th>jaundice</th>\n",
       "      <th>austim</th>\n",
       "      <th>contry_of_res</th>\n",
       "      <th>used_app_before</th>\n",
       "      <th>result</th>\n",
       "      <th>age_desc</th>\n",
       "      <th>relation</th>\n",
       "    </tr>\n",
       "  </thead>\n",
       "  <tbody>\n",
       "    <tr>\n",
       "      <th>0</th>\n",
       "      <td>1</td>\n",
       "      <td>0</td>\n",
       "      <td>0</td>\n",
       "      <td>0</td>\n",
       "      <td>0</td>\n",
       "      <td>0</td>\n",
       "      <td>0</td>\n",
       "      <td>0</td>\n",
       "      <td>1</td>\n",
       "      <td>0</td>\n",
       "      <td>...</td>\n",
       "      <td>13.445319</td>\n",
       "      <td>m</td>\n",
       "      <td>Asian</td>\n",
       "      <td>no</td>\n",
       "      <td>no</td>\n",
       "      <td>United Arab Emirates</td>\n",
       "      <td>no</td>\n",
       "      <td>-0.914467</td>\n",
       "      <td>18 and more</td>\n",
       "      <td>?</td>\n",
       "    </tr>\n",
       "    <tr>\n",
       "      <th>1</th>\n",
       "      <td>2</td>\n",
       "      <td>1</td>\n",
       "      <td>0</td>\n",
       "      <td>0</td>\n",
       "      <td>0</td>\n",
       "      <td>1</td>\n",
       "      <td>0</td>\n",
       "      <td>0</td>\n",
       "      <td>0</td>\n",
       "      <td>0</td>\n",
       "      <td>...</td>\n",
       "      <td>25.057229</td>\n",
       "      <td>f</td>\n",
       "      <td>?</td>\n",
       "      <td>yes</td>\n",
       "      <td>no</td>\n",
       "      <td>New Zealand</td>\n",
       "      <td>no</td>\n",
       "      <td>4.553447</td>\n",
       "      <td>18 and more</td>\n",
       "      <td>Parent</td>\n",
       "    </tr>\n",
       "    <tr>\n",
       "      <th>2</th>\n",
       "      <td>3</td>\n",
       "      <td>1</td>\n",
       "      <td>0</td>\n",
       "      <td>0</td>\n",
       "      <td>1</td>\n",
       "      <td>0</td>\n",
       "      <td>1</td>\n",
       "      <td>0</td>\n",
       "      <td>1</td>\n",
       "      <td>0</td>\n",
       "      <td>...</td>\n",
       "      <td>28.799885</td>\n",
       "      <td>f</td>\n",
       "      <td>Asian</td>\n",
       "      <td>no</td>\n",
       "      <td>no</td>\n",
       "      <td>Austria</td>\n",
       "      <td>no</td>\n",
       "      <td>-1.581115</td>\n",
       "      <td>18 and more</td>\n",
       "      <td>Self</td>\n",
       "    </tr>\n",
       "    <tr>\n",
       "      <th>3</th>\n",
       "      <td>4</td>\n",
       "      <td>1</td>\n",
       "      <td>1</td>\n",
       "      <td>1</td>\n",
       "      <td>0</td>\n",
       "      <td>1</td>\n",
       "      <td>0</td>\n",
       "      <td>1</td>\n",
       "      <td>0</td>\n",
       "      <td>1</td>\n",
       "      <td>...</td>\n",
       "      <td>16.501526</td>\n",
       "      <td>f</td>\n",
       "      <td>Middle Eastern</td>\n",
       "      <td>yes</td>\n",
       "      <td>no</td>\n",
       "      <td>Bahamas</td>\n",
       "      <td>no</td>\n",
       "      <td>11.779210</td>\n",
       "      <td>18 and more</td>\n",
       "      <td>Relative</td>\n",
       "    </tr>\n",
       "    <tr>\n",
       "      <th>4</th>\n",
       "      <td>5</td>\n",
       "      <td>1</td>\n",
       "      <td>0</td>\n",
       "      <td>0</td>\n",
       "      <td>1</td>\n",
       "      <td>1</td>\n",
       "      <td>0</td>\n",
       "      <td>0</td>\n",
       "      <td>1</td>\n",
       "      <td>1</td>\n",
       "      <td>...</td>\n",
       "      <td>54.223869</td>\n",
       "      <td>f</td>\n",
       "      <td>White-European</td>\n",
       "      <td>no</td>\n",
       "      <td>no</td>\n",
       "      <td>Australia</td>\n",
       "      <td>no</td>\n",
       "      <td>10.717321</td>\n",
       "      <td>18 and more</td>\n",
       "      <td>Self</td>\n",
       "    </tr>\n",
       "  </tbody>\n",
       "</table>\n",
       "<p>5 rows × 21 columns</p>\n",
       "</div>"
      ],
      "text/plain": [
       "   ID  A1_Score  A2_Score  A3_Score  A4_Score  A5_Score  A6_Score  A7_Score  \\\n",
       "0   1         0         0         0         0         0         0         0   \n",
       "1   2         1         0         0         0         1         0         0   \n",
       "2   3         1         0         0         1         0         1         0   \n",
       "3   4         1         1         1         0         1         0         1   \n",
       "4   5         1         0         0         1         1         0         0   \n",
       "\n",
       "   A8_Score  A9_Score  ...        age  gender        ethnicity jaundice  \\\n",
       "0         1         0  ...  13.445319       m            Asian       no   \n",
       "1         0         0  ...  25.057229       f                ?      yes   \n",
       "2         1         0  ...  28.799885       f            Asian       no   \n",
       "3         0         1  ...  16.501526       f  Middle Eastern       yes   \n",
       "4         1         1  ...  54.223869       f   White-European       no   \n",
       "\n",
       "  austim         contry_of_res used_app_before     result     age_desc  \\\n",
       "0     no  United Arab Emirates              no  -0.914467  18 and more   \n",
       "1     no           New Zealand              no   4.553447  18 and more   \n",
       "2     no               Austria              no  -1.581115  18 and more   \n",
       "3     no               Bahamas              no  11.779210  18 and more   \n",
       "4     no             Australia              no  10.717321  18 and more   \n",
       "\n",
       "   relation  \n",
       "0         ?  \n",
       "1    Parent  \n",
       "2      Self  \n",
       "3  Relative  \n",
       "4      Self  \n",
       "\n",
       "[5 rows x 21 columns]"
      ]
     },
     "execution_count": 3,
     "metadata": {},
     "output_type": "execute_result"
    }
   ],
   "source": [
    "test.head()"
   ]
  },
  {
   "cell_type": "code",
   "execution_count": 4,
   "id": "50cbe53a",
   "metadata": {
    "execution": {
     "iopub.execute_input": "2023-05-30T09:31:21.161598Z",
     "iopub.status.busy": "2023-05-30T09:31:21.161045Z",
     "iopub.status.idle": "2023-05-30T09:31:21.185243Z",
     "shell.execute_reply": "2023-05-30T09:31:21.183875Z"
    },
    "papermill": {
     "duration": 0.041151,
     "end_time": "2023-05-30T09:31:21.187175",
     "exception": false,
     "start_time": "2023-05-30T09:31:21.146024",
     "status": "completed"
    },
    "tags": []
   },
   "outputs": [
    {
     "name": "stdout",
     "output_type": "stream",
     "text": [
      "<class 'pandas.core.frame.DataFrame'>\n",
      "RangeIndex: 800 entries, 0 to 799\n",
      "Data columns (total 22 columns):\n",
      " #   Column           Non-Null Count  Dtype  \n",
      "---  ------           --------------  -----  \n",
      " 0   ID               800 non-null    int64  \n",
      " 1   A1_Score         800 non-null    int64  \n",
      " 2   A2_Score         800 non-null    int64  \n",
      " 3   A3_Score         800 non-null    int64  \n",
      " 4   A4_Score         800 non-null    int64  \n",
      " 5   A5_Score         800 non-null    int64  \n",
      " 6   A6_Score         800 non-null    int64  \n",
      " 7   A7_Score         800 non-null    int64  \n",
      " 8   A8_Score         800 non-null    int64  \n",
      " 9   A9_Score         800 non-null    int64  \n",
      " 10  A10_Score        800 non-null    int64  \n",
      " 11  age              800 non-null    float64\n",
      " 12  gender           800 non-null    object \n",
      " 13  ethnicity        800 non-null    object \n",
      " 14  jaundice         800 non-null    object \n",
      " 15  austim           800 non-null    object \n",
      " 16  contry_of_res    800 non-null    object \n",
      " 17  used_app_before  800 non-null    object \n",
      " 18  result           800 non-null    float64\n",
      " 19  age_desc         800 non-null    object \n",
      " 20  relation         800 non-null    object \n",
      " 21  Class/ASD        800 non-null    int64  \n",
      "dtypes: float64(2), int64(12), object(8)\n",
      "memory usage: 137.6+ KB\n"
     ]
    }
   ],
   "source": [
    "train.info()"
   ]
  },
  {
   "cell_type": "code",
   "execution_count": 5,
   "id": "7b67cf4f",
   "metadata": {
    "execution": {
     "iopub.execute_input": "2023-05-30T09:31:21.217039Z",
     "iopub.status.busy": "2023-05-30T09:31:21.216304Z",
     "iopub.status.idle": "2023-05-30T09:31:21.259533Z",
     "shell.execute_reply": "2023-05-30T09:31:21.258394Z"
    },
    "papermill": {
     "duration": 0.060387,
     "end_time": "2023-05-30T09:31:21.261564",
     "exception": false,
     "start_time": "2023-05-30T09:31:21.201177",
     "status": "completed"
    },
    "tags": []
   },
   "outputs": [
    {
     "data": {
      "text/html": [
       "<div>\n",
       "<style scoped>\n",
       "    .dataframe tbody tr th:only-of-type {\n",
       "        vertical-align: middle;\n",
       "    }\n",
       "\n",
       "    .dataframe tbody tr th {\n",
       "        vertical-align: top;\n",
       "    }\n",
       "\n",
       "    .dataframe thead th {\n",
       "        text-align: right;\n",
       "    }\n",
       "</style>\n",
       "<table border=\"1\" class=\"dataframe\">\n",
       "  <thead>\n",
       "    <tr style=\"text-align: right;\">\n",
       "      <th></th>\n",
       "      <th>ID</th>\n",
       "      <th>A1_Score</th>\n",
       "      <th>A2_Score</th>\n",
       "      <th>A3_Score</th>\n",
       "      <th>A4_Score</th>\n",
       "      <th>A5_Score</th>\n",
       "      <th>A6_Score</th>\n",
       "      <th>A7_Score</th>\n",
       "      <th>A8_Score</th>\n",
       "      <th>A9_Score</th>\n",
       "      <th>A10_Score</th>\n",
       "      <th>age</th>\n",
       "      <th>result</th>\n",
       "      <th>Class/ASD</th>\n",
       "    </tr>\n",
       "  </thead>\n",
       "  <tbody>\n",
       "    <tr>\n",
       "      <th>count</th>\n",
       "      <td>800.0000</td>\n",
       "      <td>800.000000</td>\n",
       "      <td>800.00000</td>\n",
       "      <td>800.000000</td>\n",
       "      <td>800.00000</td>\n",
       "      <td>800.000000</td>\n",
       "      <td>800.00000</td>\n",
       "      <td>800.000000</td>\n",
       "      <td>800.000000</td>\n",
       "      <td>800.000000</td>\n",
       "      <td>800.000000</td>\n",
       "      <td>800.000000</td>\n",
       "      <td>800.000000</td>\n",
       "      <td>800.000000</td>\n",
       "    </tr>\n",
       "    <tr>\n",
       "      <th>mean</th>\n",
       "      <td>400.5000</td>\n",
       "      <td>0.582500</td>\n",
       "      <td>0.28625</td>\n",
       "      <td>0.321250</td>\n",
       "      <td>0.41500</td>\n",
       "      <td>0.457500</td>\n",
       "      <td>0.20875</td>\n",
       "      <td>0.273750</td>\n",
       "      <td>0.717500</td>\n",
       "      <td>0.316250</td>\n",
       "      <td>0.460000</td>\n",
       "      <td>28.612306</td>\n",
       "      <td>7.058530</td>\n",
       "      <td>0.231250</td>\n",
       "    </tr>\n",
       "    <tr>\n",
       "      <th>std</th>\n",
       "      <td>231.0844</td>\n",
       "      <td>0.493455</td>\n",
       "      <td>0.45229</td>\n",
       "      <td>0.467249</td>\n",
       "      <td>0.49303</td>\n",
       "      <td>0.498502</td>\n",
       "      <td>0.40667</td>\n",
       "      <td>0.446161</td>\n",
       "      <td>0.450497</td>\n",
       "      <td>0.465303</td>\n",
       "      <td>0.498709</td>\n",
       "      <td>12.872373</td>\n",
       "      <td>3.788969</td>\n",
       "      <td>0.421896</td>\n",
       "    </tr>\n",
       "    <tr>\n",
       "      <th>min</th>\n",
       "      <td>1.0000</td>\n",
       "      <td>0.000000</td>\n",
       "      <td>0.00000</td>\n",
       "      <td>0.000000</td>\n",
       "      <td>0.00000</td>\n",
       "      <td>0.000000</td>\n",
       "      <td>0.00000</td>\n",
       "      <td>0.000000</td>\n",
       "      <td>0.000000</td>\n",
       "      <td>0.000000</td>\n",
       "      <td>0.000000</td>\n",
       "      <td>9.560505</td>\n",
       "      <td>-2.594654</td>\n",
       "      <td>0.000000</td>\n",
       "    </tr>\n",
       "    <tr>\n",
       "      <th>25%</th>\n",
       "      <td>200.7500</td>\n",
       "      <td>0.000000</td>\n",
       "      <td>0.00000</td>\n",
       "      <td>0.000000</td>\n",
       "      <td>0.00000</td>\n",
       "      <td>0.000000</td>\n",
       "      <td>0.00000</td>\n",
       "      <td>0.000000</td>\n",
       "      <td>0.000000</td>\n",
       "      <td>0.000000</td>\n",
       "      <td>0.000000</td>\n",
       "      <td>19.282082</td>\n",
       "      <td>4.527556</td>\n",
       "      <td>0.000000</td>\n",
       "    </tr>\n",
       "    <tr>\n",
       "      <th>50%</th>\n",
       "      <td>400.5000</td>\n",
       "      <td>1.000000</td>\n",
       "      <td>0.00000</td>\n",
       "      <td>0.000000</td>\n",
       "      <td>0.00000</td>\n",
       "      <td>0.000000</td>\n",
       "      <td>0.00000</td>\n",
       "      <td>0.000000</td>\n",
       "      <td>1.000000</td>\n",
       "      <td>0.000000</td>\n",
       "      <td>0.000000</td>\n",
       "      <td>25.479960</td>\n",
       "      <td>6.893472</td>\n",
       "      <td>0.000000</td>\n",
       "    </tr>\n",
       "    <tr>\n",
       "      <th>75%</th>\n",
       "      <td>600.2500</td>\n",
       "      <td>1.000000</td>\n",
       "      <td>1.00000</td>\n",
       "      <td>1.000000</td>\n",
       "      <td>1.00000</td>\n",
       "      <td>1.000000</td>\n",
       "      <td>0.00000</td>\n",
       "      <td>1.000000</td>\n",
       "      <td>1.000000</td>\n",
       "      <td>1.000000</td>\n",
       "      <td>1.000000</td>\n",
       "      <td>33.154755</td>\n",
       "      <td>9.892981</td>\n",
       "      <td>0.000000</td>\n",
       "    </tr>\n",
       "    <tr>\n",
       "      <th>max</th>\n",
       "      <td>800.0000</td>\n",
       "      <td>1.000000</td>\n",
       "      <td>1.00000</td>\n",
       "      <td>1.000000</td>\n",
       "      <td>1.00000</td>\n",
       "      <td>1.000000</td>\n",
       "      <td>1.00000</td>\n",
       "      <td>1.000000</td>\n",
       "      <td>1.000000</td>\n",
       "      <td>1.000000</td>\n",
       "      <td>1.000000</td>\n",
       "      <td>72.402488</td>\n",
       "      <td>13.390868</td>\n",
       "      <td>1.000000</td>\n",
       "    </tr>\n",
       "  </tbody>\n",
       "</table>\n",
       "</div>"
      ],
      "text/plain": [
       "             ID    A1_Score   A2_Score    A3_Score   A4_Score    A5_Score  \\\n",
       "count  800.0000  800.000000  800.00000  800.000000  800.00000  800.000000   \n",
       "mean   400.5000    0.582500    0.28625    0.321250    0.41500    0.457500   \n",
       "std    231.0844    0.493455    0.45229    0.467249    0.49303    0.498502   \n",
       "min      1.0000    0.000000    0.00000    0.000000    0.00000    0.000000   \n",
       "25%    200.7500    0.000000    0.00000    0.000000    0.00000    0.000000   \n",
       "50%    400.5000    1.000000    0.00000    0.000000    0.00000    0.000000   \n",
       "75%    600.2500    1.000000    1.00000    1.000000    1.00000    1.000000   \n",
       "max    800.0000    1.000000    1.00000    1.000000    1.00000    1.000000   \n",
       "\n",
       "        A6_Score    A7_Score    A8_Score    A9_Score   A10_Score         age  \\\n",
       "count  800.00000  800.000000  800.000000  800.000000  800.000000  800.000000   \n",
       "mean     0.20875    0.273750    0.717500    0.316250    0.460000   28.612306   \n",
       "std      0.40667    0.446161    0.450497    0.465303    0.498709   12.872373   \n",
       "min      0.00000    0.000000    0.000000    0.000000    0.000000    9.560505   \n",
       "25%      0.00000    0.000000    0.000000    0.000000    0.000000   19.282082   \n",
       "50%      0.00000    0.000000    1.000000    0.000000    0.000000   25.479960   \n",
       "75%      0.00000    1.000000    1.000000    1.000000    1.000000   33.154755   \n",
       "max      1.00000    1.000000    1.000000    1.000000    1.000000   72.402488   \n",
       "\n",
       "           result   Class/ASD  \n",
       "count  800.000000  800.000000  \n",
       "mean     7.058530    0.231250  \n",
       "std      3.788969    0.421896  \n",
       "min     -2.594654    0.000000  \n",
       "25%      4.527556    0.000000  \n",
       "50%      6.893472    0.000000  \n",
       "75%      9.892981    0.000000  \n",
       "max     13.390868    1.000000  "
      ]
     },
     "execution_count": 5,
     "metadata": {},
     "output_type": "execute_result"
    }
   ],
   "source": [
    "train.describe() #statistical summary of the dataset"
   ]
  },
  {
   "cell_type": "markdown",
   "id": "bf679dc4",
   "metadata": {
    "papermill": {
     "duration": 0.013698,
     "end_time": "2023-05-30T09:31:21.289576",
     "exception": false,
     "start_time": "2023-05-30T09:31:21.275878",
     "status": "completed"
    },
    "tags": []
   },
   "source": [
    "**Check and remove all DUPLICATE RECORDS from the DATAFRAME**"
   ]
  },
  {
   "cell_type": "code",
   "execution_count": 6,
   "id": "c9b96498",
   "metadata": {
    "execution": {
     "iopub.execute_input": "2023-05-30T09:31:21.319365Z",
     "iopub.status.busy": "2023-05-30T09:31:21.319060Z",
     "iopub.status.idle": "2023-05-30T09:31:21.342114Z",
     "shell.execute_reply": "2023-05-30T09:31:21.341187Z"
    },
    "papermill": {
     "duration": 0.039913,
     "end_time": "2023-05-30T09:31:21.343768",
     "exception": false,
     "start_time": "2023-05-30T09:31:21.303855",
     "status": "completed"
    },
    "tags": []
   },
   "outputs": [
    {
     "data": {
      "text/html": [
       "<div>\n",
       "<style scoped>\n",
       "    .dataframe tbody tr th:only-of-type {\n",
       "        vertical-align: middle;\n",
       "    }\n",
       "\n",
       "    .dataframe tbody tr th {\n",
       "        vertical-align: top;\n",
       "    }\n",
       "\n",
       "    .dataframe thead th {\n",
       "        text-align: right;\n",
       "    }\n",
       "</style>\n",
       "<table border=\"1\" class=\"dataframe\">\n",
       "  <thead>\n",
       "    <tr style=\"text-align: right;\">\n",
       "      <th></th>\n",
       "      <th>ID</th>\n",
       "      <th>A1_Score</th>\n",
       "      <th>A2_Score</th>\n",
       "      <th>A3_Score</th>\n",
       "      <th>A4_Score</th>\n",
       "      <th>A5_Score</th>\n",
       "      <th>A6_Score</th>\n",
       "      <th>A7_Score</th>\n",
       "      <th>A8_Score</th>\n",
       "      <th>A9_Score</th>\n",
       "      <th>...</th>\n",
       "      <th>gender</th>\n",
       "      <th>ethnicity</th>\n",
       "      <th>jaundice</th>\n",
       "      <th>austim</th>\n",
       "      <th>contry_of_res</th>\n",
       "      <th>used_app_before</th>\n",
       "      <th>result</th>\n",
       "      <th>age_desc</th>\n",
       "      <th>relation</th>\n",
       "      <th>Class/ASD</th>\n",
       "    </tr>\n",
       "  </thead>\n",
       "  <tbody>\n",
       "    <tr>\n",
       "      <th>0</th>\n",
       "      <td>1</td>\n",
       "      <td>1</td>\n",
       "      <td>0</td>\n",
       "      <td>1</td>\n",
       "      <td>1</td>\n",
       "      <td>1</td>\n",
       "      <td>1</td>\n",
       "      <td>0</td>\n",
       "      <td>1</td>\n",
       "      <td>1</td>\n",
       "      <td>...</td>\n",
       "      <td>f</td>\n",
       "      <td>White-European</td>\n",
       "      <td>no</td>\n",
       "      <td>no</td>\n",
       "      <td>United States</td>\n",
       "      <td>no</td>\n",
       "      <td>7.819715</td>\n",
       "      <td>18 and more</td>\n",
       "      <td>Self</td>\n",
       "      <td>0</td>\n",
       "    </tr>\n",
       "    <tr>\n",
       "      <th>1</th>\n",
       "      <td>2</td>\n",
       "      <td>0</td>\n",
       "      <td>0</td>\n",
       "      <td>0</td>\n",
       "      <td>0</td>\n",
       "      <td>0</td>\n",
       "      <td>0</td>\n",
       "      <td>0</td>\n",
       "      <td>0</td>\n",
       "      <td>0</td>\n",
       "      <td>...</td>\n",
       "      <td>f</td>\n",
       "      <td>South Asian</td>\n",
       "      <td>no</td>\n",
       "      <td>no</td>\n",
       "      <td>Australia</td>\n",
       "      <td>no</td>\n",
       "      <td>10.544296</td>\n",
       "      <td>18 and more</td>\n",
       "      <td>?</td>\n",
       "      <td>0</td>\n",
       "    </tr>\n",
       "    <tr>\n",
       "      <th>2</th>\n",
       "      <td>3</td>\n",
       "      <td>1</td>\n",
       "      <td>1</td>\n",
       "      <td>1</td>\n",
       "      <td>1</td>\n",
       "      <td>1</td>\n",
       "      <td>1</td>\n",
       "      <td>0</td>\n",
       "      <td>0</td>\n",
       "      <td>1</td>\n",
       "      <td>...</td>\n",
       "      <td>f</td>\n",
       "      <td>White-European</td>\n",
       "      <td>no</td>\n",
       "      <td>no</td>\n",
       "      <td>United Kingdom</td>\n",
       "      <td>no</td>\n",
       "      <td>13.167506</td>\n",
       "      <td>18 and more</td>\n",
       "      <td>Self</td>\n",
       "      <td>1</td>\n",
       "    </tr>\n",
       "    <tr>\n",
       "      <th>3</th>\n",
       "      <td>4</td>\n",
       "      <td>0</td>\n",
       "      <td>0</td>\n",
       "      <td>0</td>\n",
       "      <td>1</td>\n",
       "      <td>0</td>\n",
       "      <td>0</td>\n",
       "      <td>0</td>\n",
       "      <td>0</td>\n",
       "      <td>0</td>\n",
       "      <td>...</td>\n",
       "      <td>f</td>\n",
       "      <td>South Asian</td>\n",
       "      <td>no</td>\n",
       "      <td>no</td>\n",
       "      <td>New Zealand</td>\n",
       "      <td>no</td>\n",
       "      <td>1.530098</td>\n",
       "      <td>18 and more</td>\n",
       "      <td>?</td>\n",
       "      <td>0</td>\n",
       "    </tr>\n",
       "    <tr>\n",
       "      <th>4</th>\n",
       "      <td>5</td>\n",
       "      <td>0</td>\n",
       "      <td>0</td>\n",
       "      <td>0</td>\n",
       "      <td>0</td>\n",
       "      <td>1</td>\n",
       "      <td>0</td>\n",
       "      <td>0</td>\n",
       "      <td>0</td>\n",
       "      <td>1</td>\n",
       "      <td>...</td>\n",
       "      <td>m</td>\n",
       "      <td>Black</td>\n",
       "      <td>no</td>\n",
       "      <td>yes</td>\n",
       "      <td>Italy</td>\n",
       "      <td>no</td>\n",
       "      <td>7.949723</td>\n",
       "      <td>18 and more</td>\n",
       "      <td>Self</td>\n",
       "      <td>0</td>\n",
       "    </tr>\n",
       "  </tbody>\n",
       "</table>\n",
       "<p>5 rows × 22 columns</p>\n",
       "</div>"
      ],
      "text/plain": [
       "   ID  A1_Score  A2_Score  A3_Score  A4_Score  A5_Score  A6_Score  A7_Score  \\\n",
       "0   1         1         0         1         1         1         1         0   \n",
       "1   2         0         0         0         0         0         0         0   \n",
       "2   3         1         1         1         1         1         1         0   \n",
       "3   4         0         0         0         1         0         0         0   \n",
       "4   5         0         0         0         0         1         0         0   \n",
       "\n",
       "   A8_Score  A9_Score  ...  gender       ethnicity jaundice austim  \\\n",
       "0         1         1  ...       f  White-European       no     no   \n",
       "1         0         0  ...       f     South Asian       no     no   \n",
       "2         0         1  ...       f  White-European       no     no   \n",
       "3         0         0  ...       f     South Asian       no     no   \n",
       "4         0         1  ...       m           Black       no    yes   \n",
       "\n",
       "    contry_of_res used_app_before     result     age_desc  relation Class/ASD  \n",
       "0   United States              no   7.819715  18 and more      Self         0  \n",
       "1       Australia              no  10.544296  18 and more         ?         0  \n",
       "2  United Kingdom              no  13.167506  18 and more      Self         1  \n",
       "3     New Zealand              no   1.530098  18 and more         ?         0  \n",
       "4           Italy              no   7.949723  18 and more      Self         0  \n",
       "\n",
       "[5 rows x 22 columns]"
      ]
     },
     "execution_count": 6,
     "metadata": {},
     "output_type": "execute_result"
    }
   ],
   "source": [
    "train.drop_duplicates(inplace=True)\n",
    "train.head()"
   ]
  },
  {
   "cell_type": "code",
   "execution_count": 7,
   "id": "5b3f6c75",
   "metadata": {
    "execution": {
     "iopub.execute_input": "2023-05-30T09:31:21.373942Z",
     "iopub.status.busy": "2023-05-30T09:31:21.373430Z",
     "iopub.status.idle": "2023-05-30T09:31:21.392359Z",
     "shell.execute_reply": "2023-05-30T09:31:21.391583Z"
    },
    "papermill": {
     "duration": 0.03578,
     "end_time": "2023-05-30T09:31:21.393961",
     "exception": false,
     "start_time": "2023-05-30T09:31:21.358181",
     "status": "completed"
    },
    "tags": []
   },
   "outputs": [
    {
     "data": {
      "text/html": [
       "<div>\n",
       "<style scoped>\n",
       "    .dataframe tbody tr th:only-of-type {\n",
       "        vertical-align: middle;\n",
       "    }\n",
       "\n",
       "    .dataframe tbody tr th {\n",
       "        vertical-align: top;\n",
       "    }\n",
       "\n",
       "    .dataframe thead th {\n",
       "        text-align: right;\n",
       "    }\n",
       "</style>\n",
       "<table border=\"1\" class=\"dataframe\">\n",
       "  <thead>\n",
       "    <tr style=\"text-align: right;\">\n",
       "      <th></th>\n",
       "      <th>ID</th>\n",
       "      <th>A1_Score</th>\n",
       "      <th>A2_Score</th>\n",
       "      <th>A3_Score</th>\n",
       "      <th>A4_Score</th>\n",
       "      <th>A5_Score</th>\n",
       "      <th>A6_Score</th>\n",
       "      <th>A7_Score</th>\n",
       "      <th>A8_Score</th>\n",
       "      <th>A9_Score</th>\n",
       "      <th>...</th>\n",
       "      <th>age</th>\n",
       "      <th>gender</th>\n",
       "      <th>ethnicity</th>\n",
       "      <th>jaundice</th>\n",
       "      <th>austim</th>\n",
       "      <th>contry_of_res</th>\n",
       "      <th>used_app_before</th>\n",
       "      <th>result</th>\n",
       "      <th>age_desc</th>\n",
       "      <th>relation</th>\n",
       "    </tr>\n",
       "  </thead>\n",
       "  <tbody>\n",
       "    <tr>\n",
       "      <th>0</th>\n",
       "      <td>1</td>\n",
       "      <td>0</td>\n",
       "      <td>0</td>\n",
       "      <td>0</td>\n",
       "      <td>0</td>\n",
       "      <td>0</td>\n",
       "      <td>0</td>\n",
       "      <td>0</td>\n",
       "      <td>1</td>\n",
       "      <td>0</td>\n",
       "      <td>...</td>\n",
       "      <td>13.445319</td>\n",
       "      <td>m</td>\n",
       "      <td>Asian</td>\n",
       "      <td>no</td>\n",
       "      <td>no</td>\n",
       "      <td>United Arab Emirates</td>\n",
       "      <td>no</td>\n",
       "      <td>-0.914467</td>\n",
       "      <td>18 and more</td>\n",
       "      <td>?</td>\n",
       "    </tr>\n",
       "    <tr>\n",
       "      <th>1</th>\n",
       "      <td>2</td>\n",
       "      <td>1</td>\n",
       "      <td>0</td>\n",
       "      <td>0</td>\n",
       "      <td>0</td>\n",
       "      <td>1</td>\n",
       "      <td>0</td>\n",
       "      <td>0</td>\n",
       "      <td>0</td>\n",
       "      <td>0</td>\n",
       "      <td>...</td>\n",
       "      <td>25.057229</td>\n",
       "      <td>f</td>\n",
       "      <td>?</td>\n",
       "      <td>yes</td>\n",
       "      <td>no</td>\n",
       "      <td>New Zealand</td>\n",
       "      <td>no</td>\n",
       "      <td>4.553447</td>\n",
       "      <td>18 and more</td>\n",
       "      <td>Parent</td>\n",
       "    </tr>\n",
       "    <tr>\n",
       "      <th>2</th>\n",
       "      <td>3</td>\n",
       "      <td>1</td>\n",
       "      <td>0</td>\n",
       "      <td>0</td>\n",
       "      <td>1</td>\n",
       "      <td>0</td>\n",
       "      <td>1</td>\n",
       "      <td>0</td>\n",
       "      <td>1</td>\n",
       "      <td>0</td>\n",
       "      <td>...</td>\n",
       "      <td>28.799885</td>\n",
       "      <td>f</td>\n",
       "      <td>Asian</td>\n",
       "      <td>no</td>\n",
       "      <td>no</td>\n",
       "      <td>Austria</td>\n",
       "      <td>no</td>\n",
       "      <td>-1.581115</td>\n",
       "      <td>18 and more</td>\n",
       "      <td>Self</td>\n",
       "    </tr>\n",
       "    <tr>\n",
       "      <th>3</th>\n",
       "      <td>4</td>\n",
       "      <td>1</td>\n",
       "      <td>1</td>\n",
       "      <td>1</td>\n",
       "      <td>0</td>\n",
       "      <td>1</td>\n",
       "      <td>0</td>\n",
       "      <td>1</td>\n",
       "      <td>0</td>\n",
       "      <td>1</td>\n",
       "      <td>...</td>\n",
       "      <td>16.501526</td>\n",
       "      <td>f</td>\n",
       "      <td>Middle Eastern</td>\n",
       "      <td>yes</td>\n",
       "      <td>no</td>\n",
       "      <td>Bahamas</td>\n",
       "      <td>no</td>\n",
       "      <td>11.779210</td>\n",
       "      <td>18 and more</td>\n",
       "      <td>Relative</td>\n",
       "    </tr>\n",
       "    <tr>\n",
       "      <th>4</th>\n",
       "      <td>5</td>\n",
       "      <td>1</td>\n",
       "      <td>0</td>\n",
       "      <td>0</td>\n",
       "      <td>1</td>\n",
       "      <td>1</td>\n",
       "      <td>0</td>\n",
       "      <td>0</td>\n",
       "      <td>1</td>\n",
       "      <td>1</td>\n",
       "      <td>...</td>\n",
       "      <td>54.223869</td>\n",
       "      <td>f</td>\n",
       "      <td>White-European</td>\n",
       "      <td>no</td>\n",
       "      <td>no</td>\n",
       "      <td>Australia</td>\n",
       "      <td>no</td>\n",
       "      <td>10.717321</td>\n",
       "      <td>18 and more</td>\n",
       "      <td>Self</td>\n",
       "    </tr>\n",
       "  </tbody>\n",
       "</table>\n",
       "<p>5 rows × 21 columns</p>\n",
       "</div>"
      ],
      "text/plain": [
       "   ID  A1_Score  A2_Score  A3_Score  A4_Score  A5_Score  A6_Score  A7_Score  \\\n",
       "0   1         0         0         0         0         0         0         0   \n",
       "1   2         1         0         0         0         1         0         0   \n",
       "2   3         1         0         0         1         0         1         0   \n",
       "3   4         1         1         1         0         1         0         1   \n",
       "4   5         1         0         0         1         1         0         0   \n",
       "\n",
       "   A8_Score  A9_Score  ...        age  gender        ethnicity jaundice  \\\n",
       "0         1         0  ...  13.445319       m            Asian       no   \n",
       "1         0         0  ...  25.057229       f                ?      yes   \n",
       "2         1         0  ...  28.799885       f            Asian       no   \n",
       "3         0         1  ...  16.501526       f  Middle Eastern       yes   \n",
       "4         1         1  ...  54.223869       f   White-European       no   \n",
       "\n",
       "  austim         contry_of_res used_app_before     result     age_desc  \\\n",
       "0     no  United Arab Emirates              no  -0.914467  18 and more   \n",
       "1     no           New Zealand              no   4.553447  18 and more   \n",
       "2     no               Austria              no  -1.581115  18 and more   \n",
       "3     no               Bahamas              no  11.779210  18 and more   \n",
       "4     no             Australia              no  10.717321  18 and more   \n",
       "\n",
       "   relation  \n",
       "0         ?  \n",
       "1    Parent  \n",
       "2      Self  \n",
       "3  Relative  \n",
       "4      Self  \n",
       "\n",
       "[5 rows x 21 columns]"
      ]
     },
     "execution_count": 7,
     "metadata": {},
     "output_type": "execute_result"
    }
   ],
   "source": [
    "test.drop_duplicates(inplace=True)\n",
    "test.head()"
   ]
  },
  {
   "cell_type": "code",
   "execution_count": 8,
   "id": "3f830848",
   "metadata": {
    "execution": {
     "iopub.execute_input": "2023-05-30T09:31:21.426081Z",
     "iopub.status.busy": "2023-05-30T09:31:21.425205Z",
     "iopub.status.idle": "2023-05-30T09:31:21.431309Z",
     "shell.execute_reply": "2023-05-30T09:31:21.430398Z"
    },
    "papermill": {
     "duration": 0.024321,
     "end_time": "2023-05-30T09:31:21.432974",
     "exception": false,
     "start_time": "2023-05-30T09:31:21.408653",
     "status": "completed"
    },
    "tags": []
   },
   "outputs": [
    {
     "data": {
      "text/plain": [
       "(800, 22)"
      ]
     },
     "execution_count": 8,
     "metadata": {},
     "output_type": "execute_result"
    }
   ],
   "source": [
    "train.shape"
   ]
  },
  {
   "cell_type": "code",
   "execution_count": 9,
   "id": "a1b82edc",
   "metadata": {
    "execution": {
     "iopub.execute_input": "2023-05-30T09:31:21.463831Z",
     "iopub.status.busy": "2023-05-30T09:31:21.463489Z",
     "iopub.status.idle": "2023-05-30T09:31:21.469262Z",
     "shell.execute_reply": "2023-05-30T09:31:21.468344Z"
    },
    "papermill": {
     "duration": 0.023224,
     "end_time": "2023-05-30T09:31:21.471004",
     "exception": false,
     "start_time": "2023-05-30T09:31:21.447780",
     "status": "completed"
    },
    "tags": []
   },
   "outputs": [
    {
     "data": {
      "text/plain": [
       "(200, 21)"
      ]
     },
     "execution_count": 9,
     "metadata": {},
     "output_type": "execute_result"
    }
   ],
   "source": [
    "test.shape"
   ]
  },
  {
   "cell_type": "code",
   "execution_count": 10,
   "id": "6cdcf2f6",
   "metadata": {
    "execution": {
     "iopub.execute_input": "2023-05-30T09:31:21.503673Z",
     "iopub.status.busy": "2023-05-30T09:31:21.503365Z",
     "iopub.status.idle": "2023-05-30T09:31:21.508119Z",
     "shell.execute_reply": "2023-05-30T09:31:21.507203Z"
    },
    "papermill": {
     "duration": 0.023997,
     "end_time": "2023-05-30T09:31:21.509862",
     "exception": false,
     "start_time": "2023-05-30T09:31:21.485865",
     "status": "completed"
    },
    "tags": []
   },
   "outputs": [],
   "source": [
    "#Reset the index\n",
    "#1. Creating new index array\n",
    "indexColArray = np.array(list(range(0, len(train))))\n",
    "\n",
    "#2. Assign the above array to my df\n",
    "train.set_index(indexColArray, inplace=True)\n"
   ]
  },
  {
   "cell_type": "code",
   "execution_count": 11,
   "id": "fa359c4d",
   "metadata": {
    "execution": {
     "iopub.execute_input": "2023-05-30T09:31:21.542503Z",
     "iopub.status.busy": "2023-05-30T09:31:21.541606Z",
     "iopub.status.idle": "2023-05-30T09:31:21.546545Z",
     "shell.execute_reply": "2023-05-30T09:31:21.545546Z"
    },
    "papermill": {
     "duration": 0.022912,
     "end_time": "2023-05-30T09:31:21.548116",
     "exception": false,
     "start_time": "2023-05-30T09:31:21.525204",
     "status": "completed"
    },
    "tags": []
   },
   "outputs": [],
   "source": [
    "indexColArray = np.array(list(range(0, len(test))))\n",
    "test.set_index(indexColArray, inplace=True)"
   ]
  },
  {
   "cell_type": "markdown",
   "id": "763cddb4",
   "metadata": {
    "papermill": {
     "duration": 0.015768,
     "end_time": "2023-05-30T09:31:21.580124",
     "exception": false,
     "start_time": "2023-05-30T09:31:21.564356",
     "status": "completed"
    },
    "tags": []
   },
   "source": [
    "#  Checking null values"
   ]
  },
  {
   "cell_type": "code",
   "execution_count": 12,
   "id": "69837e82",
   "metadata": {
    "execution": {
     "iopub.execute_input": "2023-05-30T09:31:21.612748Z",
     "iopub.status.busy": "2023-05-30T09:31:21.612170Z",
     "iopub.status.idle": "2023-05-30T09:31:21.683935Z",
     "shell.execute_reply": "2023-05-30T09:31:21.682437Z"
    },
    "papermill": {
     "duration": 0.090972,
     "end_time": "2023-05-30T09:31:21.686148",
     "exception": false,
     "start_time": "2023-05-30T09:31:21.595176",
     "status": "completed"
    },
    "tags": []
   },
   "outputs": [
    {
     "data": {
      "text/html": [
       "<style type=\"text/css\">\n",
       "#T_69162_row0_col0, #T_69162_row1_col0, #T_69162_row2_col0, #T_69162_row3_col0, #T_69162_row4_col0, #T_69162_row5_col0, #T_69162_row6_col0, #T_69162_row7_col0, #T_69162_row8_col0, #T_69162_row9_col0, #T_69162_row10_col0, #T_69162_row11_col0, #T_69162_row12_col0, #T_69162_row13_col0, #T_69162_row14_col0, #T_69162_row15_col0, #T_69162_row16_col0, #T_69162_row17_col0, #T_69162_row18_col0, #T_69162_row19_col0, #T_69162_row20_col0, #T_69162_row21_col0 {\n",
       "  width: 10em;\n",
       "}\n",
       "</style>\n",
       "<table id=\"T_69162\">\n",
       "  <thead>\n",
       "    <tr>\n",
       "      <th class=\"blank level0\" >&nbsp;</th>\n",
       "      <th id=\"T_69162_level0_col0\" class=\"col_heading level0 col0\" >Missing Values</th>\n",
       "    </tr>\n",
       "  </thead>\n",
       "  <tbody>\n",
       "    <tr>\n",
       "      <th id=\"T_69162_level0_row0\" class=\"row_heading level0 row0\" >ID</th>\n",
       "      <td id=\"T_69162_row0_col0\" class=\"data row0 col0\" >0</td>\n",
       "    </tr>\n",
       "    <tr>\n",
       "      <th id=\"T_69162_level0_row1\" class=\"row_heading level0 row1\" >A1_Score</th>\n",
       "      <td id=\"T_69162_row1_col0\" class=\"data row1 col0\" >0</td>\n",
       "    </tr>\n",
       "    <tr>\n",
       "      <th id=\"T_69162_level0_row2\" class=\"row_heading level0 row2\" >A2_Score</th>\n",
       "      <td id=\"T_69162_row2_col0\" class=\"data row2 col0\" >0</td>\n",
       "    </tr>\n",
       "    <tr>\n",
       "      <th id=\"T_69162_level0_row3\" class=\"row_heading level0 row3\" >A3_Score</th>\n",
       "      <td id=\"T_69162_row3_col0\" class=\"data row3 col0\" >0</td>\n",
       "    </tr>\n",
       "    <tr>\n",
       "      <th id=\"T_69162_level0_row4\" class=\"row_heading level0 row4\" >A4_Score</th>\n",
       "      <td id=\"T_69162_row4_col0\" class=\"data row4 col0\" >0</td>\n",
       "    </tr>\n",
       "    <tr>\n",
       "      <th id=\"T_69162_level0_row5\" class=\"row_heading level0 row5\" >A5_Score</th>\n",
       "      <td id=\"T_69162_row5_col0\" class=\"data row5 col0\" >0</td>\n",
       "    </tr>\n",
       "    <tr>\n",
       "      <th id=\"T_69162_level0_row6\" class=\"row_heading level0 row6\" >A6_Score</th>\n",
       "      <td id=\"T_69162_row6_col0\" class=\"data row6 col0\" >0</td>\n",
       "    </tr>\n",
       "    <tr>\n",
       "      <th id=\"T_69162_level0_row7\" class=\"row_heading level0 row7\" >A7_Score</th>\n",
       "      <td id=\"T_69162_row7_col0\" class=\"data row7 col0\" >0</td>\n",
       "    </tr>\n",
       "    <tr>\n",
       "      <th id=\"T_69162_level0_row8\" class=\"row_heading level0 row8\" >A8_Score</th>\n",
       "      <td id=\"T_69162_row8_col0\" class=\"data row8 col0\" >0</td>\n",
       "    </tr>\n",
       "    <tr>\n",
       "      <th id=\"T_69162_level0_row9\" class=\"row_heading level0 row9\" >A9_Score</th>\n",
       "      <td id=\"T_69162_row9_col0\" class=\"data row9 col0\" >0</td>\n",
       "    </tr>\n",
       "    <tr>\n",
       "      <th id=\"T_69162_level0_row10\" class=\"row_heading level0 row10\" >A10_Score</th>\n",
       "      <td id=\"T_69162_row10_col0\" class=\"data row10 col0\" >0</td>\n",
       "    </tr>\n",
       "    <tr>\n",
       "      <th id=\"T_69162_level0_row11\" class=\"row_heading level0 row11\" >age</th>\n",
       "      <td id=\"T_69162_row11_col0\" class=\"data row11 col0\" >0</td>\n",
       "    </tr>\n",
       "    <tr>\n",
       "      <th id=\"T_69162_level0_row12\" class=\"row_heading level0 row12\" >gender</th>\n",
       "      <td id=\"T_69162_row12_col0\" class=\"data row12 col0\" >0</td>\n",
       "    </tr>\n",
       "    <tr>\n",
       "      <th id=\"T_69162_level0_row13\" class=\"row_heading level0 row13\" >ethnicity</th>\n",
       "      <td id=\"T_69162_row13_col0\" class=\"data row13 col0\" >0</td>\n",
       "    </tr>\n",
       "    <tr>\n",
       "      <th id=\"T_69162_level0_row14\" class=\"row_heading level0 row14\" >jaundice</th>\n",
       "      <td id=\"T_69162_row14_col0\" class=\"data row14 col0\" >0</td>\n",
       "    </tr>\n",
       "    <tr>\n",
       "      <th id=\"T_69162_level0_row15\" class=\"row_heading level0 row15\" >austim</th>\n",
       "      <td id=\"T_69162_row15_col0\" class=\"data row15 col0\" >0</td>\n",
       "    </tr>\n",
       "    <tr>\n",
       "      <th id=\"T_69162_level0_row16\" class=\"row_heading level0 row16\" >contry_of_res</th>\n",
       "      <td id=\"T_69162_row16_col0\" class=\"data row16 col0\" >0</td>\n",
       "    </tr>\n",
       "    <tr>\n",
       "      <th id=\"T_69162_level0_row17\" class=\"row_heading level0 row17\" >used_app_before</th>\n",
       "      <td id=\"T_69162_row17_col0\" class=\"data row17 col0\" >0</td>\n",
       "    </tr>\n",
       "    <tr>\n",
       "      <th id=\"T_69162_level0_row18\" class=\"row_heading level0 row18\" >result</th>\n",
       "      <td id=\"T_69162_row18_col0\" class=\"data row18 col0\" >0</td>\n",
       "    </tr>\n",
       "    <tr>\n",
       "      <th id=\"T_69162_level0_row19\" class=\"row_heading level0 row19\" >age_desc</th>\n",
       "      <td id=\"T_69162_row19_col0\" class=\"data row19 col0\" >0</td>\n",
       "    </tr>\n",
       "    <tr>\n",
       "      <th id=\"T_69162_level0_row20\" class=\"row_heading level0 row20\" >relation</th>\n",
       "      <td id=\"T_69162_row20_col0\" class=\"data row20 col0\" >0</td>\n",
       "    </tr>\n",
       "    <tr>\n",
       "      <th id=\"T_69162_level0_row21\" class=\"row_heading level0 row21\" >Class/ASD</th>\n",
       "      <td id=\"T_69162_row21_col0\" class=\"data row21 col0\" >0</td>\n",
       "    </tr>\n",
       "  </tbody>\n",
       "</table>\n"
      ],
      "text/plain": [
       "<pandas.io.formats.style.Styler at 0x7c7d0c64e470>"
      ]
     },
     "execution_count": 12,
     "metadata": {},
     "output_type": "execute_result"
    }
   ],
   "source": [
    "\n",
    "pd.DataFrame(train.isna().sum(), columns=[\"Missing Values\"]).style.bar(color = \"#84A9AC\")\n"
   ]
  },
  {
   "cell_type": "code",
   "execution_count": 13,
   "id": "f5df3e37",
   "metadata": {
    "execution": {
     "iopub.execute_input": "2023-05-30T09:31:21.718830Z",
     "iopub.status.busy": "2023-05-30T09:31:21.718492Z",
     "iopub.status.idle": "2023-05-30T09:31:21.730582Z",
     "shell.execute_reply": "2023-05-30T09:31:21.729441Z"
    },
    "papermill": {
     "duration": 0.030519,
     "end_time": "2023-05-30T09:31:21.732289",
     "exception": false,
     "start_time": "2023-05-30T09:31:21.701770",
     "status": "completed"
    },
    "tags": []
   },
   "outputs": [
    {
     "data": {
      "text/html": [
       "<style type=\"text/css\">\n",
       "#T_0143f_row0_col0, #T_0143f_row1_col0, #T_0143f_row2_col0, #T_0143f_row3_col0, #T_0143f_row4_col0, #T_0143f_row5_col0, #T_0143f_row6_col0, #T_0143f_row7_col0, #T_0143f_row8_col0, #T_0143f_row9_col0, #T_0143f_row10_col0, #T_0143f_row11_col0, #T_0143f_row12_col0, #T_0143f_row13_col0, #T_0143f_row14_col0, #T_0143f_row15_col0, #T_0143f_row16_col0, #T_0143f_row17_col0, #T_0143f_row18_col0, #T_0143f_row19_col0, #T_0143f_row20_col0 {\n",
       "  width: 10em;\n",
       "}\n",
       "</style>\n",
       "<table id=\"T_0143f\">\n",
       "  <thead>\n",
       "    <tr>\n",
       "      <th class=\"blank level0\" >&nbsp;</th>\n",
       "      <th id=\"T_0143f_level0_col0\" class=\"col_heading level0 col0\" >Missing Values</th>\n",
       "    </tr>\n",
       "  </thead>\n",
       "  <tbody>\n",
       "    <tr>\n",
       "      <th id=\"T_0143f_level0_row0\" class=\"row_heading level0 row0\" >ID</th>\n",
       "      <td id=\"T_0143f_row0_col0\" class=\"data row0 col0\" >0</td>\n",
       "    </tr>\n",
       "    <tr>\n",
       "      <th id=\"T_0143f_level0_row1\" class=\"row_heading level0 row1\" >A1_Score</th>\n",
       "      <td id=\"T_0143f_row1_col0\" class=\"data row1 col0\" >0</td>\n",
       "    </tr>\n",
       "    <tr>\n",
       "      <th id=\"T_0143f_level0_row2\" class=\"row_heading level0 row2\" >A2_Score</th>\n",
       "      <td id=\"T_0143f_row2_col0\" class=\"data row2 col0\" >0</td>\n",
       "    </tr>\n",
       "    <tr>\n",
       "      <th id=\"T_0143f_level0_row3\" class=\"row_heading level0 row3\" >A3_Score</th>\n",
       "      <td id=\"T_0143f_row3_col0\" class=\"data row3 col0\" >0</td>\n",
       "    </tr>\n",
       "    <tr>\n",
       "      <th id=\"T_0143f_level0_row4\" class=\"row_heading level0 row4\" >A4_Score</th>\n",
       "      <td id=\"T_0143f_row4_col0\" class=\"data row4 col0\" >0</td>\n",
       "    </tr>\n",
       "    <tr>\n",
       "      <th id=\"T_0143f_level0_row5\" class=\"row_heading level0 row5\" >A5_Score</th>\n",
       "      <td id=\"T_0143f_row5_col0\" class=\"data row5 col0\" >0</td>\n",
       "    </tr>\n",
       "    <tr>\n",
       "      <th id=\"T_0143f_level0_row6\" class=\"row_heading level0 row6\" >A6_Score</th>\n",
       "      <td id=\"T_0143f_row6_col0\" class=\"data row6 col0\" >0</td>\n",
       "    </tr>\n",
       "    <tr>\n",
       "      <th id=\"T_0143f_level0_row7\" class=\"row_heading level0 row7\" >A7_Score</th>\n",
       "      <td id=\"T_0143f_row7_col0\" class=\"data row7 col0\" >0</td>\n",
       "    </tr>\n",
       "    <tr>\n",
       "      <th id=\"T_0143f_level0_row8\" class=\"row_heading level0 row8\" >A8_Score</th>\n",
       "      <td id=\"T_0143f_row8_col0\" class=\"data row8 col0\" >0</td>\n",
       "    </tr>\n",
       "    <tr>\n",
       "      <th id=\"T_0143f_level0_row9\" class=\"row_heading level0 row9\" >A9_Score</th>\n",
       "      <td id=\"T_0143f_row9_col0\" class=\"data row9 col0\" >0</td>\n",
       "    </tr>\n",
       "    <tr>\n",
       "      <th id=\"T_0143f_level0_row10\" class=\"row_heading level0 row10\" >A10_Score</th>\n",
       "      <td id=\"T_0143f_row10_col0\" class=\"data row10 col0\" >0</td>\n",
       "    </tr>\n",
       "    <tr>\n",
       "      <th id=\"T_0143f_level0_row11\" class=\"row_heading level0 row11\" >age</th>\n",
       "      <td id=\"T_0143f_row11_col0\" class=\"data row11 col0\" >0</td>\n",
       "    </tr>\n",
       "    <tr>\n",
       "      <th id=\"T_0143f_level0_row12\" class=\"row_heading level0 row12\" >gender</th>\n",
       "      <td id=\"T_0143f_row12_col0\" class=\"data row12 col0\" >0</td>\n",
       "    </tr>\n",
       "    <tr>\n",
       "      <th id=\"T_0143f_level0_row13\" class=\"row_heading level0 row13\" >ethnicity</th>\n",
       "      <td id=\"T_0143f_row13_col0\" class=\"data row13 col0\" >0</td>\n",
       "    </tr>\n",
       "    <tr>\n",
       "      <th id=\"T_0143f_level0_row14\" class=\"row_heading level0 row14\" >jaundice</th>\n",
       "      <td id=\"T_0143f_row14_col0\" class=\"data row14 col0\" >0</td>\n",
       "    </tr>\n",
       "    <tr>\n",
       "      <th id=\"T_0143f_level0_row15\" class=\"row_heading level0 row15\" >austim</th>\n",
       "      <td id=\"T_0143f_row15_col0\" class=\"data row15 col0\" >0</td>\n",
       "    </tr>\n",
       "    <tr>\n",
       "      <th id=\"T_0143f_level0_row16\" class=\"row_heading level0 row16\" >contry_of_res</th>\n",
       "      <td id=\"T_0143f_row16_col0\" class=\"data row16 col0\" >0</td>\n",
       "    </tr>\n",
       "    <tr>\n",
       "      <th id=\"T_0143f_level0_row17\" class=\"row_heading level0 row17\" >used_app_before</th>\n",
       "      <td id=\"T_0143f_row17_col0\" class=\"data row17 col0\" >0</td>\n",
       "    </tr>\n",
       "    <tr>\n",
       "      <th id=\"T_0143f_level0_row18\" class=\"row_heading level0 row18\" >result</th>\n",
       "      <td id=\"T_0143f_row18_col0\" class=\"data row18 col0\" >0</td>\n",
       "    </tr>\n",
       "    <tr>\n",
       "      <th id=\"T_0143f_level0_row19\" class=\"row_heading level0 row19\" >age_desc</th>\n",
       "      <td id=\"T_0143f_row19_col0\" class=\"data row19 col0\" >0</td>\n",
       "    </tr>\n",
       "    <tr>\n",
       "      <th id=\"T_0143f_level0_row20\" class=\"row_heading level0 row20\" >relation</th>\n",
       "      <td id=\"T_0143f_row20_col0\" class=\"data row20 col0\" >0</td>\n",
       "    </tr>\n",
       "  </tbody>\n",
       "</table>\n"
      ],
      "text/plain": [
       "<pandas.io.formats.style.Styler at 0x7c7d0c64df60>"
      ]
     },
     "execution_count": 13,
     "metadata": {},
     "output_type": "execute_result"
    }
   ],
   "source": [
    "\n",
    "pd.DataFrame(test.isna().sum(), columns=[\"Missing Values\"]).style.bar(color = \"#84A9AC\")"
   ]
  },
  {
   "cell_type": "markdown",
   "id": "beefffa4",
   "metadata": {
    "papermill": {
     "duration": 0.015409,
     "end_time": "2023-05-30T09:31:21.763266",
     "exception": false,
     "start_time": "2023-05-30T09:31:21.747857",
     "status": "completed"
    },
    "tags": []
   },
   "source": [
    "# Handling categorical features"
   ]
  },
  {
   "cell_type": "code",
   "execution_count": 14,
   "id": "62f88201",
   "metadata": {
    "execution": {
     "iopub.execute_input": "2023-05-30T09:31:21.795870Z",
     "iopub.status.busy": "2023-05-30T09:31:21.795210Z",
     "iopub.status.idle": "2023-05-30T09:31:21.800141Z",
     "shell.execute_reply": "2023-05-30T09:31:21.799577Z"
    },
    "papermill": {
     "duration": 0.022964,
     "end_time": "2023-05-30T09:31:21.801765",
     "exception": false,
     "start_time": "2023-05-30T09:31:21.778801",
     "status": "completed"
    },
    "tags": []
   },
   "outputs": [],
   "source": [
    " #Check and remove all DUPLICATE COLUMNS from the DATAFRAME\n",
    "\n",
    "train.drop( ['age_desc','contry_of_res'] , axis = 1, inplace=True)\n"
   ]
  },
  {
   "cell_type": "code",
   "execution_count": 15,
   "id": "e2456880",
   "metadata": {
    "execution": {
     "iopub.execute_input": "2023-05-30T09:31:21.834743Z",
     "iopub.status.busy": "2023-05-30T09:31:21.834246Z",
     "iopub.status.idle": "2023-05-30T09:31:21.838754Z",
     "shell.execute_reply": "2023-05-30T09:31:21.838134Z"
    },
    "papermill": {
     "duration": 0.02298,
     "end_time": "2023-05-30T09:31:21.840369",
     "exception": false,
     "start_time": "2023-05-30T09:31:21.817389",
     "status": "completed"
    },
    "tags": []
   },
   "outputs": [],
   "source": [
    "# handling the spelling issue \n",
    "train = train.rename(columns = {'austim': 'autism'}, errors=\"raise\")\n",
    "\n"
   ]
  },
  {
   "cell_type": "code",
   "execution_count": 16,
   "id": "677b36a4",
   "metadata": {
    "execution": {
     "iopub.execute_input": "2023-05-30T09:31:21.873581Z",
     "iopub.status.busy": "2023-05-30T09:31:21.873135Z",
     "iopub.status.idle": "2023-05-30T09:31:21.878372Z",
     "shell.execute_reply": "2023-05-30T09:31:21.877747Z"
    },
    "papermill": {
     "duration": 0.0238,
     "end_time": "2023-05-30T09:31:21.880035",
     "exception": false,
     "start_time": "2023-05-30T09:31:21.856235",
     "status": "completed"
    },
    "tags": []
   },
   "outputs": [
    {
     "data": {
      "text/plain": [
       "array(['f', 'm'], dtype=object)"
      ]
     },
     "execution_count": 16,
     "metadata": {},
     "output_type": "execute_result"
    }
   ],
   "source": [
    "train.gender.unique()"
   ]
  },
  {
   "cell_type": "code",
   "execution_count": 17,
   "id": "e2c71d9f",
   "metadata": {
    "execution": {
     "iopub.execute_input": "2023-05-30T09:31:21.913238Z",
     "iopub.status.busy": "2023-05-30T09:31:21.912764Z",
     "iopub.status.idle": "2023-05-30T09:31:21.918117Z",
     "shell.execute_reply": "2023-05-30T09:31:21.917466Z"
    },
    "papermill": {
     "duration": 0.023599,
     "end_time": "2023-05-30T09:31:21.919678",
     "exception": false,
     "start_time": "2023-05-30T09:31:21.896079",
     "status": "completed"
    },
    "tags": []
   },
   "outputs": [
    {
     "data": {
      "text/plain": [
       "array(['White-European', 'South Asian', 'Black', 'Asian',\n",
       "       'Middle Eastern ', '?', 'others', 'Latino', 'Turkish', 'Others',\n",
       "       'Hispanic', 'Pasifika'], dtype=object)"
      ]
     },
     "execution_count": 17,
     "metadata": {},
     "output_type": "execute_result"
    }
   ],
   "source": [
    "train.ethnicity.unique()"
   ]
  },
  {
   "cell_type": "code",
   "execution_count": 18,
   "id": "dded038b",
   "metadata": {
    "execution": {
     "iopub.execute_input": "2023-05-30T09:31:21.952944Z",
     "iopub.status.busy": "2023-05-30T09:31:21.952450Z",
     "iopub.status.idle": "2023-05-30T09:31:21.957817Z",
     "shell.execute_reply": "2023-05-30T09:31:21.957167Z"
    },
    "papermill": {
     "duration": 0.023858,
     "end_time": "2023-05-30T09:31:21.959518",
     "exception": false,
     "start_time": "2023-05-30T09:31:21.935660",
     "status": "completed"
    },
    "tags": []
   },
   "outputs": [
    {
     "data": {
      "text/plain": [
       "array(['no', 'yes'], dtype=object)"
      ]
     },
     "execution_count": 18,
     "metadata": {},
     "output_type": "execute_result"
    }
   ],
   "source": [
    "train.jaundice.unique()"
   ]
  },
  {
   "cell_type": "code",
   "execution_count": 19,
   "id": "2ab7cd18",
   "metadata": {
    "execution": {
     "iopub.execute_input": "2023-05-30T09:31:21.992062Z",
     "iopub.status.busy": "2023-05-30T09:31:21.991757Z",
     "iopub.status.idle": "2023-05-30T09:31:21.997843Z",
     "shell.execute_reply": "2023-05-30T09:31:21.996920Z"
    },
    "papermill": {
     "duration": 0.024425,
     "end_time": "2023-05-30T09:31:21.999537",
     "exception": false,
     "start_time": "2023-05-30T09:31:21.975112",
     "status": "completed"
    },
    "tags": []
   },
   "outputs": [
    {
     "data": {
      "text/plain": [
       "array(['no', 'yes'], dtype=object)"
      ]
     },
     "execution_count": 19,
     "metadata": {},
     "output_type": "execute_result"
    }
   ],
   "source": [
    "train.autism.unique()"
   ]
  },
  {
   "cell_type": "code",
   "execution_count": 20,
   "id": "99914c09",
   "metadata": {
    "execution": {
     "iopub.execute_input": "2023-05-30T09:31:22.032446Z",
     "iopub.status.busy": "2023-05-30T09:31:22.032149Z",
     "iopub.status.idle": "2023-05-30T09:31:22.039041Z",
     "shell.execute_reply": "2023-05-30T09:31:22.038088Z"
    },
    "papermill": {
     "duration": 0.025291,
     "end_time": "2023-05-30T09:31:22.040775",
     "exception": false,
     "start_time": "2023-05-30T09:31:22.015484",
     "status": "completed"
    },
    "tags": []
   },
   "outputs": [
    {
     "data": {
      "text/plain": [
       "array(['no', 'yes'], dtype=object)"
      ]
     },
     "execution_count": 20,
     "metadata": {},
     "output_type": "execute_result"
    }
   ],
   "source": [
    "train.used_app_before.unique()"
   ]
  },
  {
   "cell_type": "code",
   "execution_count": 21,
   "id": "cac9c3ec",
   "metadata": {
    "execution": {
     "iopub.execute_input": "2023-05-30T09:31:22.074638Z",
     "iopub.status.busy": "2023-05-30T09:31:22.073495Z",
     "iopub.status.idle": "2023-05-30T09:31:22.079618Z",
     "shell.execute_reply": "2023-05-30T09:31:22.078753Z"
    },
    "papermill": {
     "duration": 0.024538,
     "end_time": "2023-05-30T09:31:22.081317",
     "exception": false,
     "start_time": "2023-05-30T09:31:22.056779",
     "status": "completed"
    },
    "tags": []
   },
   "outputs": [
    {
     "data": {
      "text/plain": [
       "array(['Self', '?', 'Health care professional', 'Parent', 'Relative',\n",
       "       'Others'], dtype=object)"
      ]
     },
     "execution_count": 21,
     "metadata": {},
     "output_type": "execute_result"
    }
   ],
   "source": [
    "train.relation.unique()"
   ]
  },
  {
   "cell_type": "markdown",
   "id": "092698e1",
   "metadata": {
    "papermill": {
     "duration": 0.015241,
     "end_time": "2023-05-30T09:31:22.112596",
     "exception": false,
     "start_time": "2023-05-30T09:31:22.097355",
     "status": "completed"
    },
    "tags": []
   },
   "source": [
    "# Handling Invalid values \n",
    "\n",
    "**In ethnicity feature, Replacing others with Others**"
   ]
  },
  {
   "cell_type": "code",
   "execution_count": 22,
   "id": "684363c4",
   "metadata": {
    "execution": {
     "iopub.execute_input": "2023-05-30T09:31:22.145583Z",
     "iopub.status.busy": "2023-05-30T09:31:22.145235Z",
     "iopub.status.idle": "2023-05-30T09:31:22.151256Z",
     "shell.execute_reply": "2023-05-30T09:31:22.150169Z"
    },
    "papermill": {
     "duration": 0.024832,
     "end_time": "2023-05-30T09:31:22.153067",
     "exception": false,
     "start_time": "2023-05-30T09:31:22.128235",
     "status": "completed"
    },
    "tags": []
   },
   "outputs": [],
   "source": [
    "train['ethnicity'] = train['ethnicity'].replace('?', 'Others')"
   ]
  },
  {
   "cell_type": "code",
   "execution_count": 23,
   "id": "ff182107",
   "metadata": {
    "execution": {
     "iopub.execute_input": "2023-05-30T09:31:22.186533Z",
     "iopub.status.busy": "2023-05-30T09:31:22.186236Z",
     "iopub.status.idle": "2023-05-30T09:31:22.191319Z",
     "shell.execute_reply": "2023-05-30T09:31:22.190461Z"
    },
    "papermill": {
     "duration": 0.024192,
     "end_time": "2023-05-30T09:31:22.193267",
     "exception": false,
     "start_time": "2023-05-30T09:31:22.169075",
     "status": "completed"
    },
    "tags": []
   },
   "outputs": [],
   "source": [
    "train['ethnicity'] = train['ethnicity'].replace('others', 'Others')"
   ]
  },
  {
   "cell_type": "code",
   "execution_count": 24,
   "id": "891683f3",
   "metadata": {
    "execution": {
     "iopub.execute_input": "2023-05-30T09:31:22.226982Z",
     "iopub.status.busy": "2023-05-30T09:31:22.226660Z",
     "iopub.status.idle": "2023-05-30T09:31:22.232249Z",
     "shell.execute_reply": "2023-05-30T09:31:22.231233Z"
    },
    "papermill": {
     "duration": 0.024578,
     "end_time": "2023-05-30T09:31:22.233950",
     "exception": false,
     "start_time": "2023-05-30T09:31:22.209372",
     "status": "completed"
    },
    "tags": []
   },
   "outputs": [],
   "source": [
    "train['relation'] = train['relation'].replace('?', train['relation'].mode()[0])"
   ]
  },
  {
   "cell_type": "code",
   "execution_count": 25,
   "id": "20163391",
   "metadata": {
    "execution": {
     "iopub.execute_input": "2023-05-30T09:31:22.267009Z",
     "iopub.status.busy": "2023-05-30T09:31:22.266670Z",
     "iopub.status.idle": "2023-05-30T09:31:22.271794Z",
     "shell.execute_reply": "2023-05-30T09:31:22.271014Z"
    },
    "papermill": {
     "duration": 0.024138,
     "end_time": "2023-05-30T09:31:22.273935",
     "exception": false,
     "start_time": "2023-05-30T09:31:22.249797",
     "status": "completed"
    },
    "tags": []
   },
   "outputs": [
    {
     "data": {
      "text/plain": [
       "array(['Self', 'Health care professional', 'Parent', 'Relative', 'Others'],\n",
       "      dtype=object)"
      ]
     },
     "execution_count": 25,
     "metadata": {},
     "output_type": "execute_result"
    }
   ],
   "source": [
    "train['relation'].unique()"
   ]
  },
  {
   "cell_type": "code",
   "execution_count": 26,
   "id": "7d918092",
   "metadata": {
    "execution": {
     "iopub.execute_input": "2023-05-30T09:31:22.308096Z",
     "iopub.status.busy": "2023-05-30T09:31:22.307600Z",
     "iopub.status.idle": "2023-05-30T09:31:22.312266Z",
     "shell.execute_reply": "2023-05-30T09:31:22.311565Z"
    },
    "papermill": {
     "duration": 0.023493,
     "end_time": "2023-05-30T09:31:22.313830",
     "exception": false,
     "start_time": "2023-05-30T09:31:22.290337",
     "status": "completed"
    },
    "tags": []
   },
   "outputs": [],
   "source": [
    "test['ethnicity'] = test['ethnicity'].replace('?', 'Others')"
   ]
  },
  {
   "cell_type": "code",
   "execution_count": 27,
   "id": "8a26c8b1",
   "metadata": {
    "execution": {
     "iopub.execute_input": "2023-05-30T09:31:22.348141Z",
     "iopub.status.busy": "2023-05-30T09:31:22.347663Z",
     "iopub.status.idle": "2023-05-30T09:31:22.352070Z",
     "shell.execute_reply": "2023-05-30T09:31:22.351468Z"
    },
    "papermill": {
     "duration": 0.023392,
     "end_time": "2023-05-30T09:31:22.353587",
     "exception": false,
     "start_time": "2023-05-30T09:31:22.330195",
     "status": "completed"
    },
    "tags": []
   },
   "outputs": [],
   "source": [
    "test['ethnicity'] = test['ethnicity'].replace('others', 'Others')"
   ]
  },
  {
   "cell_type": "code",
   "execution_count": 28,
   "id": "e98fa1ea",
   "metadata": {
    "execution": {
     "iopub.execute_input": "2023-05-30T09:31:22.388427Z",
     "iopub.status.busy": "2023-05-30T09:31:22.387888Z",
     "iopub.status.idle": "2023-05-30T09:31:22.392645Z",
     "shell.execute_reply": "2023-05-30T09:31:22.392142Z"
    },
    "papermill": {
     "duration": 0.023374,
     "end_time": "2023-05-30T09:31:22.394220",
     "exception": false,
     "start_time": "2023-05-30T09:31:22.370846",
     "status": "completed"
    },
    "tags": []
   },
   "outputs": [],
   "source": [
    "test['relation'] = test['relation'].replace('?', test['relation'].mode()[0])"
   ]
  },
  {
   "cell_type": "code",
   "execution_count": 29,
   "id": "5cbe4e83",
   "metadata": {
    "execution": {
     "iopub.execute_input": "2023-05-30T09:31:22.428004Z",
     "iopub.status.busy": "2023-05-30T09:31:22.427516Z",
     "iopub.status.idle": "2023-05-30T09:31:22.432599Z",
     "shell.execute_reply": "2023-05-30T09:31:22.432035Z"
    },
    "papermill": {
     "duration": 0.023874,
     "end_time": "2023-05-30T09:31:22.434209",
     "exception": false,
     "start_time": "2023-05-30T09:31:22.410335",
     "status": "completed"
    },
    "tags": []
   },
   "outputs": [
    {
     "data": {
      "text/plain": [
       "array(['Self', 'Parent', 'Relative', 'Health care professional', 'Others'],\n",
       "      dtype=object)"
      ]
     },
     "execution_count": 29,
     "metadata": {},
     "output_type": "execute_result"
    }
   ],
   "source": [
    "test['relation'].unique()"
   ]
  },
  {
   "cell_type": "markdown",
   "id": "8d884723",
   "metadata": {
    "papermill": {
     "duration": 0.016639,
     "end_time": "2023-05-30T09:31:22.467592",
     "exception": false,
     "start_time": "2023-05-30T09:31:22.450953",
     "status": "completed"
    },
    "tags": []
   },
   "source": [
    "# Visualization"
   ]
  },
  {
   "cell_type": "code",
   "execution_count": 30,
   "id": "a9571fe9",
   "metadata": {
    "execution": {
     "iopub.execute_input": "2023-05-30T09:31:22.502784Z",
     "iopub.status.busy": "2023-05-30T09:31:22.502462Z",
     "iopub.status.idle": "2023-05-30T09:31:23.196888Z",
     "shell.execute_reply": "2023-05-30T09:31:23.196135Z"
    },
    "papermill": {
     "duration": 0.714288,
     "end_time": "2023-05-30T09:31:23.198884",
     "exception": false,
     "start_time": "2023-05-30T09:31:22.484596",
     "status": "completed"
    },
    "tags": []
   },
   "outputs": [
    {
     "data": {
      "image/png": "[encoded data removed]",
      "text/plain": [
       "<Figure size 1500x1000 with 2 Axes>"
      ]
     },
     "metadata": {},
     "output_type": "display_data"
    }
   ],
   "source": [
    "plt.figure(figsize=(15,10))\n",
    "sns.heatmap(train.corr(),annot=True)\n",
    "plt.title('Heatmap of Variable Correlations')\n",
    "plt.show()"
   ]
  },
  {
   "cell_type": "markdown",
   "id": "c3519c41",
   "metadata": {
    "papermill": {
     "duration": 0.017896,
     "end_time": "2023-05-30T09:31:23.235107",
     "exception": false,
     "start_time": "2023-05-30T09:31:23.217211",
     "status": "completed"
    },
    "tags": []
   },
   "source": [
    "**count of different values present in gender**"
   ]
  },
  {
   "cell_type": "code",
   "execution_count": 31,
   "id": "9b221b56",
   "metadata": {
    "execution": {
     "iopub.execute_input": "2023-05-30T09:31:23.272984Z",
     "iopub.status.busy": "2023-05-30T09:31:23.272606Z",
     "iopub.status.idle": "2023-05-30T09:31:23.279715Z",
     "shell.execute_reply": "2023-05-30T09:31:23.278920Z"
    },
    "papermill": {
     "duration": 0.02852,
     "end_time": "2023-05-30T09:31:23.281564",
     "exception": false,
     "start_time": "2023-05-30T09:31:23.253044",
     "status": "completed"
    },
    "tags": []
   },
   "outputs": [
    {
     "data": {
      "text/plain": [
       "f    415\n",
       "m    385\n",
       "Name: gender, dtype: int64"
      ]
     },
     "execution_count": 31,
     "metadata": {},
     "output_type": "execute_result"
    }
   ],
   "source": [
    "train['gender'].value_counts()  "
   ]
  },
  {
   "cell_type": "markdown",
   "id": "6e397126",
   "metadata": {
    "papermill": {
     "duration": 0.018271,
     "end_time": "2023-05-30T09:31:23.318398",
     "exception": false,
     "start_time": "2023-05-30T09:31:23.300127",
     "status": "completed"
    },
    "tags": []
   },
   "source": [
    "# Balancing imbalanced data using oversampling"
   ]
  },
  {
   "cell_type": "code",
   "execution_count": 32,
   "id": "563ba559",
   "metadata": {
    "execution": {
     "iopub.execute_input": "2023-05-30T09:31:23.357048Z",
     "iopub.status.busy": "2023-05-30T09:31:23.356728Z",
     "iopub.status.idle": "2023-05-30T09:31:23.366221Z",
     "shell.execute_reply": "2023-05-30T09:31:23.365017Z"
    },
    "papermill": {
     "duration": 0.031349,
     "end_time": "2023-05-30T09:31:23.368402",
     "exception": false,
     "start_time": "2023-05-30T09:31:23.337053",
     "status": "completed"
    },
    "tags": []
   },
   "outputs": [
    {
     "data": {
      "text/plain": [
       "Class/ASD\n",
       "0    615\n",
       "1    185\n",
       "dtype: int64"
      ]
     },
     "execution_count": 32,
     "metadata": {},
     "output_type": "execute_result"
    }
   ],
   "source": [
    "#checking for balance data\n",
    "train.value_counts('Class/ASD')"
   ]
  },
  {
   "cell_type": "code",
   "execution_count": 33,
   "id": "edbb6ab6",
   "metadata": {
    "execution": {
     "iopub.execute_input": "2023-05-30T09:31:23.405886Z",
     "iopub.status.busy": "2023-05-30T09:31:23.405568Z",
     "iopub.status.idle": "2023-05-30T09:31:23.510911Z",
     "shell.execute_reply": "2023-05-30T09:31:23.510103Z"
    },
    "papermill": {
     "duration": 0.126287,
     "end_time": "2023-05-30T09:31:23.512763",
     "exception": false,
     "start_time": "2023-05-30T09:31:23.386476",
     "status": "completed"
    },
    "tags": []
   },
   "outputs": [
    {
     "data": {
      "image/png": "[encoded data removed]",
      "text/plain": [
       "<Figure size 640x480 with 1 Axes>"
      ]
     },
     "metadata": {},
     "output_type": "display_data"
    }
   ],
   "source": [
    "sns.countplot(x=\"Class/ASD\", data=train)\n",
    "plt.show()"
   ]
  },
  {
   "cell_type": "code",
   "execution_count": 34,
   "id": "1b717793",
   "metadata": {
    "execution": {
     "iopub.execute_input": "2023-05-30T09:31:23.560980Z",
     "iopub.status.busy": "2023-05-30T09:31:23.560182Z",
     "iopub.status.idle": "2023-05-30T09:31:23.570614Z",
     "shell.execute_reply": "2023-05-30T09:31:23.570068Z"
    },
    "papermill": {
     "duration": 0.034963,
     "end_time": "2023-05-30T09:31:23.572085",
     "exception": false,
     "start_time": "2023-05-30T09:31:23.537122",
     "status": "completed"
    },
    "tags": []
   },
   "outputs": [
    {
     "data": {
      "text/plain": [
       "0    615\n",
       "1    615\n",
       "Name: Class/ASD, dtype: int64"
      ]
     },
     "execution_count": 34,
     "metadata": {},
     "output_type": "execute_result"
    }
   ],
   "source": [
    "from sklearn.utils import resample\n",
    "\n",
    "# Separate Target Classes\n",
    "df_1 = train[train[\"Class/ASD\"]==0]\n",
    "df_2 = train[train[\"Class/ASD\"]==1]\n",
    "# Upsample minority class\n",
    "df_2_upsampled = resample(df_2, \n",
    "                                 replace=True,     # sample with replacement\n",
    "                                 n_samples=615,    # to match majority class\n",
    "                                 random_state=123) # reproducible results\n",
    "\n",
    "# Combine majority class with upsampled minority class\n",
    "train_upsampled = pd.concat([df_1, df_2_upsampled])\n",
    " \n",
    "# Display new class counts\n",
    "train_upsampled[\"Class/ASD\"].value_counts()\n"
   ]
  },
  {
   "cell_type": "code",
   "execution_count": 35,
   "id": "02a63287",
   "metadata": {
    "execution": {
     "iopub.execute_input": "2023-05-30T09:31:23.612112Z",
     "iopub.status.busy": "2023-05-30T09:31:23.611327Z",
     "iopub.status.idle": "2023-05-30T09:31:23.627076Z",
     "shell.execute_reply": "2023-05-30T09:31:23.625996Z"
    },
    "papermill": {
     "duration": 0.038153,
     "end_time": "2023-05-30T09:31:23.628963",
     "exception": false,
     "start_time": "2023-05-30T09:31:23.590810",
     "status": "completed"
    },
    "tags": []
   },
   "outputs": [
    {
     "data": {
      "text/html": [
       "<div>\n",
       "<style scoped>\n",
       "    .dataframe tbody tr th:only-of-type {\n",
       "        vertical-align: middle;\n",
       "    }\n",
       "\n",
       "    .dataframe tbody tr th {\n",
       "        vertical-align: top;\n",
       "    }\n",
       "\n",
       "    .dataframe thead th {\n",
       "        text-align: right;\n",
       "    }\n",
       "</style>\n",
       "<table border=\"1\" class=\"dataframe\">\n",
       "  <thead>\n",
       "    <tr style=\"text-align: right;\">\n",
       "      <th></th>\n",
       "      <th>ID</th>\n",
       "      <th>A1_Score</th>\n",
       "      <th>A2_Score</th>\n",
       "      <th>A3_Score</th>\n",
       "      <th>A4_Score</th>\n",
       "      <th>A5_Score</th>\n",
       "      <th>A6_Score</th>\n",
       "      <th>A7_Score</th>\n",
       "      <th>A8_Score</th>\n",
       "      <th>A9_Score</th>\n",
       "      <th>A10_Score</th>\n",
       "      <th>age</th>\n",
       "      <th>gender</th>\n",
       "      <th>ethnicity</th>\n",
       "      <th>jaundice</th>\n",
       "      <th>autism</th>\n",
       "      <th>used_app_before</th>\n",
       "      <th>result</th>\n",
       "      <th>relation</th>\n",
       "      <th>Class/ASD</th>\n",
       "    </tr>\n",
       "  </thead>\n",
       "  <tbody>\n",
       "    <tr>\n",
       "      <th>0</th>\n",
       "      <td>1</td>\n",
       "      <td>1</td>\n",
       "      <td>0</td>\n",
       "      <td>1</td>\n",
       "      <td>1</td>\n",
       "      <td>1</td>\n",
       "      <td>1</td>\n",
       "      <td>0</td>\n",
       "      <td>1</td>\n",
       "      <td>1</td>\n",
       "      <td>1</td>\n",
       "      <td>18.605397</td>\n",
       "      <td>f</td>\n",
       "      <td>White-European</td>\n",
       "      <td>no</td>\n",
       "      <td>no</td>\n",
       "      <td>no</td>\n",
       "      <td>7.819715</td>\n",
       "      <td>Self</td>\n",
       "      <td>0</td>\n",
       "    </tr>\n",
       "    <tr>\n",
       "      <th>1</th>\n",
       "      <td>2</td>\n",
       "      <td>0</td>\n",
       "      <td>0</td>\n",
       "      <td>0</td>\n",
       "      <td>0</td>\n",
       "      <td>0</td>\n",
       "      <td>0</td>\n",
       "      <td>0</td>\n",
       "      <td>0</td>\n",
       "      <td>0</td>\n",
       "      <td>1</td>\n",
       "      <td>13.829369</td>\n",
       "      <td>f</td>\n",
       "      <td>South Asian</td>\n",
       "      <td>no</td>\n",
       "      <td>no</td>\n",
       "      <td>no</td>\n",
       "      <td>10.544296</td>\n",
       "      <td>Self</td>\n",
       "      <td>0</td>\n",
       "    </tr>\n",
       "    <tr>\n",
       "      <th>3</th>\n",
       "      <td>4</td>\n",
       "      <td>0</td>\n",
       "      <td>0</td>\n",
       "      <td>0</td>\n",
       "      <td>1</td>\n",
       "      <td>0</td>\n",
       "      <td>0</td>\n",
       "      <td>0</td>\n",
       "      <td>0</td>\n",
       "      <td>0</td>\n",
       "      <td>0</td>\n",
       "      <td>61.035288</td>\n",
       "      <td>f</td>\n",
       "      <td>South Asian</td>\n",
       "      <td>no</td>\n",
       "      <td>no</td>\n",
       "      <td>no</td>\n",
       "      <td>1.530098</td>\n",
       "      <td>Self</td>\n",
       "      <td>0</td>\n",
       "    </tr>\n",
       "    <tr>\n",
       "      <th>4</th>\n",
       "      <td>5</td>\n",
       "      <td>0</td>\n",
       "      <td>0</td>\n",
       "      <td>0</td>\n",
       "      <td>0</td>\n",
       "      <td>1</td>\n",
       "      <td>0</td>\n",
       "      <td>0</td>\n",
       "      <td>0</td>\n",
       "      <td>1</td>\n",
       "      <td>1</td>\n",
       "      <td>14.256686</td>\n",
       "      <td>m</td>\n",
       "      <td>Black</td>\n",
       "      <td>no</td>\n",
       "      <td>yes</td>\n",
       "      <td>no</td>\n",
       "      <td>7.949723</td>\n",
       "      <td>Self</td>\n",
       "      <td>0</td>\n",
       "    </tr>\n",
       "    <tr>\n",
       "      <th>5</th>\n",
       "      <td>6</td>\n",
       "      <td>1</td>\n",
       "      <td>0</td>\n",
       "      <td>0</td>\n",
       "      <td>0</td>\n",
       "      <td>0</td>\n",
       "      <td>0</td>\n",
       "      <td>0</td>\n",
       "      <td>1</td>\n",
       "      <td>0</td>\n",
       "      <td>0</td>\n",
       "      <td>15.578191</td>\n",
       "      <td>m</td>\n",
       "      <td>Asian</td>\n",
       "      <td>no</td>\n",
       "      <td>no</td>\n",
       "      <td>no</td>\n",
       "      <td>7.445003</td>\n",
       "      <td>Self</td>\n",
       "      <td>0</td>\n",
       "    </tr>\n",
       "  </tbody>\n",
       "</table>\n",
       "</div>"
      ],
      "text/plain": [
       "   ID  A1_Score  A2_Score  A3_Score  A4_Score  A5_Score  A6_Score  A7_Score  \\\n",
       "0   1         1         0         1         1         1         1         0   \n",
       "1   2         0         0         0         0         0         0         0   \n",
       "3   4         0         0         0         1         0         0         0   \n",
       "4   5         0         0         0         0         1         0         0   \n",
       "5   6         1         0         0         0         0         0         0   \n",
       "\n",
       "   A8_Score  A9_Score  A10_Score        age gender       ethnicity jaundice  \\\n",
       "0         1         1          1  18.605397      f  White-European       no   \n",
       "1         0         0          1  13.829369      f     South Asian       no   \n",
       "3         0         0          0  61.035288      f     South Asian       no   \n",
       "4         0         1          1  14.256686      m           Black       no   \n",
       "5         1         0          0  15.578191      m           Asian       no   \n",
       "\n",
       "  autism used_app_before     result relation  Class/ASD  \n",
       "0     no              no   7.819715     Self          0  \n",
       "1     no              no  10.544296     Self          0  \n",
       "3     no              no   1.530098     Self          0  \n",
       "4    yes              no   7.949723     Self          0  \n",
       "5     no              no   7.445003     Self          0  "
      ]
     },
     "execution_count": 35,
     "metadata": {},
     "output_type": "execute_result"
    }
   ],
   "source": [
    "train_upsampled.head(5)"
   ]
  },
  {
   "cell_type": "markdown",
   "id": "daadb472",
   "metadata": {
    "papermill": {
     "duration": 0.018523,
     "end_time": "2023-05-30T09:31:23.666345",
     "exception": false,
     "start_time": "2023-05-30T09:31:23.647822",
     "status": "completed"
    },
    "tags": []
   },
   "source": [
    "# After Oversampling"
   ]
  },
  {
   "cell_type": "code",
   "execution_count": 36,
   "id": "ec065514",
   "metadata": {
    "execution": {
     "iopub.execute_input": "2023-05-30T09:31:23.704657Z",
     "iopub.status.busy": "2023-05-30T09:31:23.704355Z",
     "iopub.status.idle": "2023-05-30T09:31:23.840213Z",
     "shell.execute_reply": "2023-05-30T09:31:23.839552Z"
    },
    "papermill": {
     "duration": 0.15745,
     "end_time": "2023-05-30T09:31:23.842185",
     "exception": false,
     "start_time": "2023-05-30T09:31:23.684735",
     "status": "completed"
    },
    "tags": []
   },
   "outputs": [
    {
     "data": {
      "image/png": "[encoded data removed]",
      "text/plain": [
       "<Figure size 640x480 with 1 Axes>"
      ]
     },
     "metadata": {},
     "output_type": "display_data"
    }
   ],
   "source": [
    "sns.countplot(train_upsampled[\"Class/ASD\"])\n",
    "sns.set(rc={'figure.figsize':(10,10)})"
   ]
  },
  {
   "cell_type": "markdown",
   "id": "a2a5b864",
   "metadata": {
    "papermill": {
     "duration": 0.018761,
     "end_time": "2023-05-30T09:31:23.883809",
     "exception": false,
     "start_time": "2023-05-30T09:31:23.865048",
     "status": "completed"
    },
    "tags": []
   },
   "source": [
    "# level Encoding"
   ]
  },
  {
   "cell_type": "code",
   "execution_count": 37,
   "id": "7018a1ce",
   "metadata": {
    "execution": {
     "iopub.execute_input": "2023-05-30T09:31:23.922861Z",
     "iopub.status.busy": "2023-05-30T09:31:23.922350Z",
     "iopub.status.idle": "2023-05-30T09:31:23.925595Z",
     "shell.execute_reply": "2023-05-30T09:31:23.925042Z"
    },
    "papermill": {
     "duration": 0.024556,
     "end_time": "2023-05-30T09:31:23.927123",
     "exception": false,
     "start_time": "2023-05-30T09:31:23.902567",
     "status": "completed"
    },
    "tags": []
   },
   "outputs": [],
   "source": [
    "from sklearn import preprocessing\n",
    "label_encoder = preprocessing.LabelEncoder()"
   ]
  },
  {
   "cell_type": "code",
   "execution_count": 38,
   "id": "dbaa9bf2",
   "metadata": {
    "execution": {
     "iopub.execute_input": "2023-05-30T09:31:23.965941Z",
     "iopub.status.busy": "2023-05-30T09:31:23.965499Z",
     "iopub.status.idle": "2023-05-30T09:31:23.980069Z",
     "shell.execute_reply": "2023-05-30T09:31:23.978757Z"
    },
    "papermill": {
     "duration": 0.036384,
     "end_time": "2023-05-30T09:31:23.981859",
     "exception": false,
     "start_time": "2023-05-30T09:31:23.945475",
     "status": "completed"
    },
    "tags": []
   },
   "outputs": [
    {
     "name": "stdout",
     "output_type": "stream",
     "text": [
      "['f' 'm']\n",
      "[0 1]\n",
      "['White-European' 'South Asian' 'Black' 'Asian' 'Middle Eastern ' 'Others'\n",
      " 'Latino' 'Turkish' 'Hispanic' 'Pasifika']\n",
      "[9 7 1 0 4 5 3 8 2 6]\n",
      "['no' 'yes']\n",
      "[0 1]\n",
      "['no' 'yes']\n",
      "[0 1]\n",
      "['no' 'yes']\n",
      "[0 1]\n",
      "['Self' 'Health care professional' 'Parent' 'Others' 'Relative']\n",
      "[4 0 2 1 3]\n"
     ]
    }
   ],
   "source": [
    "\n",
    "#gender\n",
    "print(train_upsampled['gender'].unique())\n",
    "train_upsampled['gender']= label_encoder.fit_transform(train_upsampled['gender'])\n",
    "print(train_upsampled['gender'].unique())\n",
    "\n",
    "\n",
    "#ethnicity\n",
    "print(train_upsampled['ethnicity'].unique())\n",
    "train_upsampled['ethnicity']= label_encoder.fit_transform(train_upsampled['ethnicity'])\n",
    "print(train_upsampled['ethnicity'].unique())\n",
    "\n",
    "\n",
    "#jaundice\n",
    "print(train_upsampled['jaundice'].unique())\n",
    "train_upsampled['jaundice']= label_encoder.fit_transform(train_upsampled['jaundice'])\n",
    "print(train_upsampled['jaundice'].unique())\n",
    "\n",
    "#autism\n",
    "print(train_upsampled['autism'].unique())\n",
    "train_upsampled['autism']= label_encoder.fit_transform(train_upsampled['autism'])\n",
    "print(train_upsampled['autism'].unique())\n",
    "\n",
    "#used_app_before\n",
    "print(train_upsampled['used_app_before'].unique())\n",
    "train_upsampled['used_app_before']= label_encoder.fit_transform(train_upsampled['used_app_before'])\n",
    "print(train_upsampled['used_app_before'].unique())\n",
    "\n",
    "\n",
    "#relation\n",
    "print(train_upsampled['relation'].unique())\n",
    "train_upsampled['relation']= label_encoder.fit_transform(train_upsampled['relation'])\n",
    "print(train_upsampled['relation'].unique())"
   ]
  },
  {
   "cell_type": "code",
   "execution_count": 39,
   "id": "28553847",
   "metadata": {
    "execution": {
     "iopub.execute_input": "2023-05-30T09:31:24.020435Z",
     "iopub.status.busy": "2023-05-30T09:31:24.020111Z",
     "iopub.status.idle": "2023-05-30T09:31:24.034232Z",
     "shell.execute_reply": "2023-05-30T09:31:24.033639Z"
    },
    "papermill": {
     "duration": 0.03551,
     "end_time": "2023-05-30T09:31:24.035905",
     "exception": false,
     "start_time": "2023-05-30T09:31:24.000395",
     "status": "completed"
    },
    "tags": []
   },
   "outputs": [
    {
     "data": {
      "text/html": [
       "<div>\n",
       "<style scoped>\n",
       "    .dataframe tbody tr th:only-of-type {\n",
       "        vertical-align: middle;\n",
       "    }\n",
       "\n",
       "    .dataframe tbody tr th {\n",
       "        vertical-align: top;\n",
       "    }\n",
       "\n",
       "    .dataframe thead th {\n",
       "        text-align: right;\n",
       "    }\n",
       "</style>\n",
       "<table border=\"1\" class=\"dataframe\">\n",
       "  <thead>\n",
       "    <tr style=\"text-align: right;\">\n",
       "      <th></th>\n",
       "      <th>ID</th>\n",
       "      <th>A1_Score</th>\n",
       "      <th>A2_Score</th>\n",
       "      <th>A3_Score</th>\n",
       "      <th>A4_Score</th>\n",
       "      <th>A5_Score</th>\n",
       "      <th>A6_Score</th>\n",
       "      <th>A7_Score</th>\n",
       "      <th>A8_Score</th>\n",
       "      <th>A9_Score</th>\n",
       "      <th>A10_Score</th>\n",
       "      <th>age</th>\n",
       "      <th>gender</th>\n",
       "      <th>ethnicity</th>\n",
       "      <th>jaundice</th>\n",
       "      <th>autism</th>\n",
       "      <th>used_app_before</th>\n",
       "      <th>result</th>\n",
       "      <th>relation</th>\n",
       "      <th>Class/ASD</th>\n",
       "    </tr>\n",
       "  </thead>\n",
       "  <tbody>\n",
       "    <tr>\n",
       "      <th>0</th>\n",
       "      <td>1</td>\n",
       "      <td>1</td>\n",
       "      <td>0</td>\n",
       "      <td>1</td>\n",
       "      <td>1</td>\n",
       "      <td>1</td>\n",
       "      <td>1</td>\n",
       "      <td>0</td>\n",
       "      <td>1</td>\n",
       "      <td>1</td>\n",
       "      <td>1</td>\n",
       "      <td>18.605397</td>\n",
       "      <td>0</td>\n",
       "      <td>9</td>\n",
       "      <td>0</td>\n",
       "      <td>0</td>\n",
       "      <td>0</td>\n",
       "      <td>7.819715</td>\n",
       "      <td>4</td>\n",
       "      <td>0</td>\n",
       "    </tr>\n",
       "    <tr>\n",
       "      <th>1</th>\n",
       "      <td>2</td>\n",
       "      <td>0</td>\n",
       "      <td>0</td>\n",
       "      <td>0</td>\n",
       "      <td>0</td>\n",
       "      <td>0</td>\n",
       "      <td>0</td>\n",
       "      <td>0</td>\n",
       "      <td>0</td>\n",
       "      <td>0</td>\n",
       "      <td>1</td>\n",
       "      <td>13.829369</td>\n",
       "      <td>0</td>\n",
       "      <td>7</td>\n",
       "      <td>0</td>\n",
       "      <td>0</td>\n",
       "      <td>0</td>\n",
       "      <td>10.544296</td>\n",
       "      <td>4</td>\n",
       "      <td>0</td>\n",
       "    </tr>\n",
       "    <tr>\n",
       "      <th>3</th>\n",
       "      <td>4</td>\n",
       "      <td>0</td>\n",
       "      <td>0</td>\n",
       "      <td>0</td>\n",
       "      <td>1</td>\n",
       "      <td>0</td>\n",
       "      <td>0</td>\n",
       "      <td>0</td>\n",
       "      <td>0</td>\n",
       "      <td>0</td>\n",
       "      <td>0</td>\n",
       "      <td>61.035288</td>\n",
       "      <td>0</td>\n",
       "      <td>7</td>\n",
       "      <td>0</td>\n",
       "      <td>0</td>\n",
       "      <td>0</td>\n",
       "      <td>1.530098</td>\n",
       "      <td>4</td>\n",
       "      <td>0</td>\n",
       "    </tr>\n",
       "    <tr>\n",
       "      <th>4</th>\n",
       "      <td>5</td>\n",
       "      <td>0</td>\n",
       "      <td>0</td>\n",
       "      <td>0</td>\n",
       "      <td>0</td>\n",
       "      <td>1</td>\n",
       "      <td>0</td>\n",
       "      <td>0</td>\n",
       "      <td>0</td>\n",
       "      <td>1</td>\n",
       "      <td>1</td>\n",
       "      <td>14.256686</td>\n",
       "      <td>1</td>\n",
       "      <td>1</td>\n",
       "      <td>0</td>\n",
       "      <td>1</td>\n",
       "      <td>0</td>\n",
       "      <td>7.949723</td>\n",
       "      <td>4</td>\n",
       "      <td>0</td>\n",
       "    </tr>\n",
       "    <tr>\n",
       "      <th>5</th>\n",
       "      <td>6</td>\n",
       "      <td>1</td>\n",
       "      <td>0</td>\n",
       "      <td>0</td>\n",
       "      <td>0</td>\n",
       "      <td>0</td>\n",
       "      <td>0</td>\n",
       "      <td>0</td>\n",
       "      <td>1</td>\n",
       "      <td>0</td>\n",
       "      <td>0</td>\n",
       "      <td>15.578191</td>\n",
       "      <td>1</td>\n",
       "      <td>0</td>\n",
       "      <td>0</td>\n",
       "      <td>0</td>\n",
       "      <td>0</td>\n",
       "      <td>7.445003</td>\n",
       "      <td>4</td>\n",
       "      <td>0</td>\n",
       "    </tr>\n",
       "  </tbody>\n",
       "</table>\n",
       "</div>"
      ],
      "text/plain": [
       "   ID  A1_Score  A2_Score  A3_Score  A4_Score  A5_Score  A6_Score  A7_Score  \\\n",
       "0   1         1         0         1         1         1         1         0   \n",
       "1   2         0         0         0         0         0         0         0   \n",
       "3   4         0         0         0         1         0         0         0   \n",
       "4   5         0         0         0         0         1         0         0   \n",
       "5   6         1         0         0         0         0         0         0   \n",
       "\n",
       "   A8_Score  A9_Score  A10_Score        age  gender  ethnicity  jaundice  \\\n",
       "0         1         1          1  18.605397       0          9         0   \n",
       "1         0         0          1  13.829369       0          7         0   \n",
       "3         0         0          0  61.035288       0          7         0   \n",
       "4         0         1          1  14.256686       1          1         0   \n",
       "5         1         0          0  15.578191       1          0         0   \n",
       "\n",
       "   autism  used_app_before     result  relation  Class/ASD  \n",
       "0       0                0   7.819715         4          0  \n",
       "1       0                0  10.544296         4          0  \n",
       "3       0                0   1.530098         4          0  \n",
       "4       1                0   7.949723         4          0  \n",
       "5       0                0   7.445003         4          0  "
      ]
     },
     "execution_count": 39,
     "metadata": {},
     "output_type": "execute_result"
    }
   ],
   "source": [
    "train_upsampled.head(5)"
   ]
  },
  {
   "cell_type": "markdown",
   "id": "9eb3b978",
   "metadata": {
    "papermill": {
     "duration": 0.01897,
     "end_time": "2023-05-30T09:31:24.074072",
     "exception": false,
     "start_time": "2023-05-30T09:31:24.055102",
     "status": "completed"
    },
    "tags": []
   },
   "source": [
    "# Data Splitting"
   ]
  },
  {
   "cell_type": "code",
   "execution_count": 40,
   "id": "5bd260e1",
   "metadata": {
    "execution": {
     "iopub.execute_input": "2023-05-30T09:31:24.114159Z",
     "iopub.status.busy": "2023-05-30T09:31:24.113625Z",
     "iopub.status.idle": "2023-05-30T09:31:24.120516Z",
     "shell.execute_reply": "2023-05-30T09:31:24.119976Z"
    },
    "papermill": {
     "duration": 0.028916,
     "end_time": "2023-05-30T09:31:24.122135",
     "exception": false,
     "start_time": "2023-05-30T09:31:24.093219",
     "status": "completed"
    },
    "tags": []
   },
   "outputs": [],
   "source": [
    "X = train_upsampled.drop(['Class/ASD','ID'],axis=1)\n",
    "Y = train_upsampled['Class/ASD']\n",
    "\n",
    "test = test.drop(['ID'],axis=1)\n",
    "\n",
    "from sklearn.model_selection import GridSearchCV, train_test_split\n",
    "\n",
    "X_train, X_test, Y_train, Y_test = train_test_split(X,Y,train_size=0.2,random_state=42)\n"
   ]
  },
  {
   "cell_type": "markdown",
   "id": "514ddf24",
   "metadata": {
    "papermill": {
     "duration": 0.019354,
     "end_time": "2023-05-30T09:31:24.160591",
     "exception": false,
     "start_time": "2023-05-30T09:31:24.141237",
     "status": "completed"
    },
    "tags": []
   },
   "source": [
    "# Model Building & Evaluation"
   ]
  },
  {
   "cell_type": "code",
   "execution_count": 41,
   "id": "8592f59f",
   "metadata": {
    "execution": {
     "iopub.execute_input": "2023-05-30T09:31:24.200023Z",
     "iopub.status.busy": "2023-05-30T09:31:24.199483Z",
     "iopub.status.idle": "2023-05-30T09:31:24.205481Z",
     "shell.execute_reply": "2023-05-30T09:31:24.204678Z"
    },
    "papermill": {
     "duration": 0.02807,
     "end_time": "2023-05-30T09:31:24.207293",
     "exception": false,
     "start_time": "2023-05-30T09:31:24.179223",
     "status": "completed"
    },
    "tags": []
   },
   "outputs": [],
   "source": [
    "from sklearn.metrics import classification_report\n",
    "from sklearn.metrics import accuracy_score,confusion_matrix,roc_auc_score\n",
    "from sklearn.preprocessing import LabelBinarizer\n",
    "\n",
    "\n",
    "\n",
    "def evaluator(Y_test, Y_pred):    \n",
    "    \n",
    "    # Accuracy:\n",
    "    print('Accuracy is: ', accuracy_score(Y_test,Y_pred))\n",
    "    print('')\n",
    "    # Classification Report:\n",
    "    print('Classification Report: \\n',classification_report(Y_test,Y_pred))\n",
    "\n",
    "     # Area Under The Curve Score:\n",
    "\n",
    "    lb = LabelBinarizer()\n",
    "    Y_test1 = lb.fit_transform(Y_test)\n",
    "    Y_pred1 =lb.transform(Y_pred)\n",
    "    print('AUC_ROC Score: ',roc_auc_score(Y_test1,Y_pred1,average='macro'),'\\n\\n')\n",
    "   \n",
    "\n",
    "    print(\"Confusion Matrix: \")\n",
    "    plt.figure(figsize=(10, 5))\n",
    "    sns.heatmap(confusion_matrix(Y_test, Y_pred), annot=True, fmt='g');\n",
    "    plt.title('Confusion Matrix', fontsize=20)\n",
    "\n",
    "    "
   ]
  },
  {
   "cell_type": "markdown",
   "id": "4ac368be",
   "metadata": {
    "papermill": {
     "duration": 0.018207,
     "end_time": "2023-05-30T09:31:24.246183",
     "exception": false,
     "start_time": "2023-05-30T09:31:24.227976",
     "status": "completed"
    },
    "tags": []
   },
   "source": [
    "# Logistic Regression"
   ]
  },
  {
   "cell_type": "code",
   "execution_count": 42,
   "id": "a038f457",
   "metadata": {
    "execution": {
     "iopub.execute_input": "2023-05-30T09:31:24.284850Z",
     "iopub.status.busy": "2023-05-30T09:31:24.284364Z",
     "iopub.status.idle": "2023-05-30T09:31:24.363893Z",
     "shell.execute_reply": "2023-05-30T09:31:24.362599Z"
    },
    "papermill": {
     "duration": 0.101601,
     "end_time": "2023-05-30T09:31:24.366006",
     "exception": false,
     "start_time": "2023-05-30T09:31:24.264405",
     "status": "completed"
    },
    "tags": []
   },
   "outputs": [],
   "source": [
    "from sklearn.linear_model import LogisticRegression\n",
    "param_grid = {'C': [0.001, 0.01,0.1,1,10] }\n",
    "clf = GridSearchCV(LogisticRegression(penalty='l2',max_iter = 250), cv = 5, param_grid = param_grid)"
   ]
  },
  {
   "cell_type": "code",
   "execution_count": 43,
   "id": "87703002",
   "metadata": {
    "execution": {
     "iopub.execute_input": "2023-05-30T09:31:24.404430Z",
     "iopub.status.busy": "2023-05-30T09:31:24.403951Z",
     "iopub.status.idle": "2023-05-30T09:31:24.810335Z",
     "shell.execute_reply": "2023-05-30T09:31:24.809269Z"
    },
    "papermill": {
     "duration": 0.427432,
     "end_time": "2023-05-30T09:31:24.812108",
     "exception": false,
     "start_time": "2023-05-30T09:31:24.384676",
     "status": "completed"
    },
    "tags": []
   },
   "outputs": [
    {
     "name": "stdout",
     "output_type": "stream",
     "text": [
      "0.8539591836734693\n",
      "LogisticRegression(C=1, max_iter=250)\n"
     ]
    }
   ],
   "source": [
    "clf.fit(X_train, Y_train)\n",
    "print(clf.best_score_)\n",
    "print(clf.best_estimator_)"
   ]
  },
  {
   "cell_type": "code",
   "execution_count": 44,
   "id": "47e04a47",
   "metadata": {
    "execution": {
     "iopub.execute_input": "2023-05-30T09:31:24.853016Z",
     "iopub.status.busy": "2023-05-30T09:31:24.852709Z",
     "iopub.status.idle": "2023-05-30T09:31:24.857017Z",
     "shell.execute_reply": "2023-05-30T09:31:24.856142Z"
    },
    "papermill": {
     "duration": 0.027281,
     "end_time": "2023-05-30T09:31:24.859468",
     "exception": false,
     "start_time": "2023-05-30T09:31:24.832187",
     "status": "completed"
    },
    "tags": []
   },
   "outputs": [],
   "source": [
    "clf_best = clf.best_estimator_"
   ]
  },
  {
   "cell_type": "code",
   "execution_count": 45,
   "id": "a5eb1a34",
   "metadata": {
    "execution": {
     "iopub.execute_input": "2023-05-30T09:31:24.901211Z",
     "iopub.status.busy": "2023-05-30T09:31:24.900771Z",
     "iopub.status.idle": "2023-05-30T09:31:24.946088Z",
     "shell.execute_reply": "2023-05-30T09:31:24.945249Z"
    },
    "papermill": {
     "duration": 0.067276,
     "end_time": "2023-05-30T09:31:24.947874",
     "exception": false,
     "start_time": "2023-05-30T09:31:24.880598",
     "status": "completed"
    },
    "tags": []
   },
   "outputs": [
    {
     "data": {
      "text/html": [
       "<style>#sk-container-id-1 {color: black;background-color: white;}#sk-container-id-1 pre{padding: 0;}#sk-container-id-1 div.sk-toggleable {background-color: white;}#sk-container-id-1 label.sk-toggleable__label {cursor: pointer;display: block;width: 100%;margin-bottom: 0;padding: 0.3em;box-sizing: border-box;text-align: center;}#sk-container-id-1 label.sk-toggleable__label-arrow:before {content: \"▸\";float: left;margin-right: 0.25em;color: #696969;}#sk-container-id-1 label.sk-toggleable__label-arrow:hover:before {color: black;}#sk-container-id-1 div.sk-estimator:hover label.sk-toggleable__label-arrow:before {color: black;}#sk-container-id-1 div.sk-toggleable__content {max-height: 0;max-width: 0;overflow: hidden;text-align: left;background-color: #f0f8ff;}#sk-container-id-1 div.sk-toggleable__content pre {margin: 0.2em;color: black;border-radius: 0.25em;background-color: #f0f8ff;}#sk-container-id-1 input.sk-toggleable__control:checked~div.sk-toggleable__content {max-height: 200px;max-width: 100%;overflow: auto;}#sk-container-id-1 input.sk-toggleable__control:checked~label.sk-toggleable__label-arrow:before {content: \"▾\";}#sk-container-id-1 div.sk-estimator input.sk-toggleable__control:checked~label.sk-toggleable__label {background-color: #d4ebff;}#sk-container-id-1 div.sk-label input.sk-toggleable__control:checked~label.sk-toggleable__label {background-color: #d4ebff;}#sk-container-id-1 input.sk-hidden--visually {border: 0;clip: rect(1px 1px 1px 1px);clip: rect(1px, 1px, 1px, 1px);height: 1px;margin: -1px;overflow: hidden;padding: 0;position: absolute;width: 1px;}#sk-container-id-1 div.sk-estimator {font-family: monospace;background-color: #f0f8ff;border: 1px dotted black;border-radius: 0.25em;box-sizing: border-box;margin-bottom: 0.5em;}#sk-container-id-1 div.sk-estimator:hover {background-color: #d4ebff;}#sk-container-id-1 div.sk-parallel-item::after {content: \"\";width: 100%;border-bottom: 1px solid gray;flex-grow: 1;}#sk-container-id-1 div.sk-label:hover label.sk-toggleable__label {background-color: #d4ebff;}#sk-container-id-1 div.sk-serial::before {content: \"\";position: absolute;border-left: 1px solid gray;box-sizing: border-box;top: 0;bottom: 0;left: 50%;z-index: 0;}#sk-container-id-1 div.sk-serial {display: flex;flex-direction: column;align-items: center;background-color: white;padding-right: 0.2em;padding-left: 0.2em;position: relative;}#sk-container-id-1 div.sk-item {position: relative;z-index: 1;}#sk-container-id-1 div.sk-parallel {display: flex;align-items: stretch;justify-content: center;background-color: white;position: relative;}#sk-container-id-1 div.sk-item::before, #sk-container-id-1 div.sk-parallel-item::before {content: \"\";position: absolute;border-left: 1px solid gray;box-sizing: border-box;top: 0;bottom: 0;left: 50%;z-index: -1;}#sk-container-id-1 div.sk-parallel-item {display: flex;flex-direction: column;z-index: 1;position: relative;background-color: white;}#sk-container-id-1 div.sk-parallel-item:first-child::after {align-self: flex-end;width: 50%;}#sk-container-id-1 div.sk-parallel-item:last-child::after {align-self: flex-start;width: 50%;}#sk-container-id-1 div.sk-parallel-item:only-child::after {width: 0;}#sk-container-id-1 div.sk-dashed-wrapped {border: 1px dashed gray;margin: 0 0.4em 0.5em 0.4em;box-sizing: border-box;padding-bottom: 0.4em;background-color: white;}#sk-container-id-1 div.sk-label label {font-family: monospace;font-weight: bold;display: inline-block;line-height: 1.2em;}#sk-container-id-1 div.sk-label-container {text-align: center;}#sk-container-id-1 div.sk-container {/* jupyter's `normalize.less` sets `[hidden] { display: none; }` but bootstrap.min.css set `[hidden] { display: none !important; }` so we also need the `!important` here to be able to override the default hidden behavior on the sphinx rendered scikit-learn.org. See: https://github.com/scikit-learn/scikit-learn/issues/21755 */display: inline-block !important;position: relative;}#sk-container-id-1 div.sk-text-repr-fallback {display: none;}</style><div id=\"sk-container-id-1\" class=\"sk-top-container\"><div class=\"sk-text-repr-fallback\"><pre>LogisticRegression(C=1, max_iter=250)</pre><b>In a Jupyter environment, please rerun this cell to show the HTML representation or trust the notebook. <br />On GitHub, the HTML representation is unable to render, please try loading this page with nbviewer.org.</b></div><div class=\"sk-container\" hidden><div class=\"sk-item\"><div class=\"sk-estimator sk-toggleable\"><input class=\"sk-toggleable__control sk-hidden--visually\" id=\"sk-estimator-id-1\" type=\"checkbox\" checked><label for=\"sk-estimator-id-1\" class=\"sk-toggleable__label sk-toggleable__label-arrow\">LogisticRegression</label><div class=\"sk-toggleable__content\"><pre>LogisticRegression(C=1, max_iter=250)</pre></div></div></div></div></div>"
      ],
      "text/plain": [
       "LogisticRegression(C=1, max_iter=250)"
      ]
     },
     "execution_count": 45,
     "metadata": {},
     "output_type": "execute_result"
    }
   ],
   "source": [
    "clf_best.fit(X,Y)\n"
   ]
  },
  {
   "cell_type": "markdown",
   "id": "a8b74431",
   "metadata": {
    "papermill": {
     "duration": 0.025909,
     "end_time": "2023-05-30T09:31:25.000339",
     "exception": false,
     "start_time": "2023-05-30T09:31:24.974430",
     "status": "completed"
    },
    "tags": []
   },
   "source": [
    "#### Logistic Regression"
   ]
  },
  {
   "cell_type": "code",
   "execution_count": 46,
   "id": "773d2a11",
   "metadata": {
    "execution": {
     "iopub.execute_input": "2023-05-30T09:31:25.054055Z",
     "iopub.status.busy": "2023-05-30T09:31:25.053741Z",
     "iopub.status.idle": "2023-05-30T09:31:25.347917Z",
     "shell.execute_reply": "2023-05-30T09:31:25.346748Z"
    },
    "papermill": {
     "duration": 0.323457,
     "end_time": "2023-05-30T09:31:25.349876",
     "exception": false,
     "start_time": "2023-05-30T09:31:25.026419",
     "status": "completed"
    },
    "tags": []
   },
   "outputs": [
    {
     "name": "stdout",
     "output_type": "stream",
     "text": [
      "Accuracy is:  0.866869918699187\n",
      "\n",
      "Classification Report: \n",
      "               precision    recall  f1-score   support\n",
      "\n",
      "           0       0.87      0.87      0.87       505\n",
      "           1       0.86      0.86      0.86       479\n",
      "\n",
      "    accuracy                           0.87       984\n",
      "   macro avg       0.87      0.87      0.87       984\n",
      "weighted avg       0.87      0.87      0.87       984\n",
      "\n",
      "AUC_ROC Score:  0.8667500361727196 \n",
      "\n",
      "\n",
      "Confusion Matrix: \n"
     ]
    },
    {
     "data": {
      "image/png": "[encoded data removed]",
      "text/plain": [
       "<Figure size 1000x500 with 2 Axes>"
      ]
     },
     "metadata": {},
     "output_type": "display_data"
    }
   ],
   "source": [
    "pred_lg = clf_best.predict(X_test)\n",
    "evaluator(Y_test, pred_lg)"
   ]
  },
  {
   "cell_type": "markdown",
   "id": "bf5c3cfa",
   "metadata": {
    "papermill": {
     "duration": 0.020218,
     "end_time": "2023-05-30T09:31:25.390364",
     "exception": false,
     "start_time": "2023-05-30T09:31:25.370146",
     "status": "completed"
    },
    "tags": []
   },
   "source": [
    "# RandomForest "
   ]
  },
  {
   "cell_type": "code",
   "execution_count": 47,
   "id": "4408e882",
   "metadata": {
    "execution": {
     "iopub.execute_input": "2023-05-30T09:31:25.433565Z",
     "iopub.status.busy": "2023-05-30T09:31:25.432611Z",
     "iopub.status.idle": "2023-05-30T09:31:25.784877Z",
     "shell.execute_reply": "2023-05-30T09:31:25.783640Z"
    },
    "papermill": {
     "duration": 0.375724,
     "end_time": "2023-05-30T09:31:25.786566",
     "exception": false,
     "start_time": "2023-05-30T09:31:25.410842",
     "status": "completed"
    },
    "tags": []
   },
   "outputs": [
    {
     "data": {
      "text/html": [
       "<style>#sk-container-id-2 {color: black;background-color: white;}#sk-container-id-2 pre{padding: 0;}#sk-container-id-2 div.sk-toggleable {background-color: white;}#sk-container-id-2 label.sk-toggleable__label {cursor: pointer;display: block;width: 100%;margin-bottom: 0;padding: 0.3em;box-sizing: border-box;text-align: center;}#sk-container-id-2 label.sk-toggleable__label-arrow:before {content: \"▸\";float: left;margin-right: 0.25em;color: #696969;}#sk-container-id-2 label.sk-toggleable__label-arrow:hover:before {color: black;}#sk-container-id-2 div.sk-estimator:hover label.sk-toggleable__label-arrow:before {color: black;}#sk-container-id-2 div.sk-toggleable__content {max-height: 0;max-width: 0;overflow: hidden;text-align: left;background-color: #f0f8ff;}#sk-container-id-2 div.sk-toggleable__content pre {margin: 0.2em;color: black;border-radius: 0.25em;background-color: #f0f8ff;}#sk-container-id-2 input.sk-toggleable__control:checked~div.sk-toggleable__content {max-height: 200px;max-width: 100%;overflow: auto;}#sk-container-id-2 input.sk-toggleable__control:checked~label.sk-toggleable__label-arrow:before {content: \"▾\";}#sk-container-id-2 div.sk-estimator input.sk-toggleable__control:checked~label.sk-toggleable__label {background-color: #d4ebff;}#sk-container-id-2 div.sk-label input.sk-toggleable__control:checked~label.sk-toggleable__label {background-color: #d4ebff;}#sk-container-id-2 input.sk-hidden--visually {border: 0;clip: rect(1px 1px 1px 1px);clip: rect(1px, 1px, 1px, 1px);height: 1px;margin: -1px;overflow: hidden;padding: 0;position: absolute;width: 1px;}#sk-container-id-2 div.sk-estimator {font-family: monospace;background-color: #f0f8ff;border: 1px dotted black;border-radius: 0.25em;box-sizing: border-box;margin-bottom: 0.5em;}#sk-container-id-2 div.sk-estimator:hover {background-color: #d4ebff;}#sk-container-id-2 div.sk-parallel-item::after {content: \"\";width: 100%;border-bottom: 1px solid gray;flex-grow: 1;}#sk-container-id-2 div.sk-label:hover label.sk-toggleable__label {background-color: #d4ebff;}#sk-container-id-2 div.sk-serial::before {content: \"\";position: absolute;border-left: 1px solid gray;box-sizing: border-box;top: 0;bottom: 0;left: 50%;z-index: 0;}#sk-container-id-2 div.sk-serial {display: flex;flex-direction: column;align-items: center;background-color: white;padding-right: 0.2em;padding-left: 0.2em;position: relative;}#sk-container-id-2 div.sk-item {position: relative;z-index: 1;}#sk-container-id-2 div.sk-parallel {display: flex;align-items: stretch;justify-content: center;background-color: white;position: relative;}#sk-container-id-2 div.sk-item::before, #sk-container-id-2 div.sk-parallel-item::before {content: \"\";position: absolute;border-left: 1px solid gray;box-sizing: border-box;top: 0;bottom: 0;left: 50%;z-index: -1;}#sk-container-id-2 div.sk-parallel-item {display: flex;flex-direction: column;z-index: 1;position: relative;background-color: white;}#sk-container-id-2 div.sk-parallel-item:first-child::after {align-self: flex-end;width: 50%;}#sk-container-id-2 div.sk-parallel-item:last-child::after {align-self: flex-start;width: 50%;}#sk-container-id-2 div.sk-parallel-item:only-child::after {width: 0;}#sk-container-id-2 div.sk-dashed-wrapped {border: 1px dashed gray;margin: 0 0.4em 0.5em 0.4em;box-sizing: border-box;padding-bottom: 0.4em;background-color: white;}#sk-container-id-2 div.sk-label label {font-family: monospace;font-weight: bold;display: inline-block;line-height: 1.2em;}#sk-container-id-2 div.sk-label-container {text-align: center;}#sk-container-id-2 div.sk-container {/* jupyter's `normalize.less` sets `[hidden] { display: none; }` but bootstrap.min.css set `[hidden] { display: none !important; }` so we also need the `!important` here to be able to override the default hidden behavior on the sphinx rendered scikit-learn.org. See: https://github.com/scikit-learn/scikit-learn/issues/21755 */display: inline-block !important;position: relative;}#sk-container-id-2 div.sk-text-repr-fallback {display: none;}</style><div id=\"sk-container-id-2\" class=\"sk-top-container\"><div class=\"sk-text-repr-fallback\"><pre>RandomForestClassifier()</pre><b>In a Jupyter environment, please rerun this cell to show the HTML representation or trust the notebook. <br />On GitHub, the HTML representation is unable to render, please try loading this page with nbviewer.org.</b></div><div class=\"sk-container\" hidden><div class=\"sk-item\"><div class=\"sk-estimator sk-toggleable\"><input class=\"sk-toggleable__control sk-hidden--visually\" id=\"sk-estimator-id-2\" type=\"checkbox\" checked><label for=\"sk-estimator-id-2\" class=\"sk-toggleable__label sk-toggleable__label-arrow\">RandomForestClassifier</label><div class=\"sk-toggleable__content\"><pre>RandomForestClassifier()</pre></div></div></div></div></div>"
      ],
      "text/plain": [
       "RandomForestClassifier()"
      ]
     },
     "execution_count": 47,
     "metadata": {},
     "output_type": "execute_result"
    }
   ],
   "source": [
    "from sklearn.ensemble import RandomForestClassifier\n",
    "\n",
    "rf_classifier = RandomForestClassifier()\n",
    "\n",
    "rf_classifier.fit(X_train,Y_train)"
   ]
  },
  {
   "cell_type": "code",
   "execution_count": 48,
   "id": "6efbd2e4",
   "metadata": {
    "execution": {
     "iopub.execute_input": "2023-05-30T09:31:25.827515Z",
     "iopub.status.busy": "2023-05-30T09:31:25.827196Z",
     "iopub.status.idle": "2023-05-30T09:31:26.269102Z",
     "shell.execute_reply": "2023-05-30T09:31:26.268125Z"
    },
    "papermill": {
     "duration": 0.4645,
     "end_time": "2023-05-30T09:31:26.270719",
     "exception": false,
     "start_time": "2023-05-30T09:31:25.806219",
     "status": "completed"
    },
    "tags": []
   },
   "outputs": [
    {
     "name": "stdout",
     "output_type": "stream",
     "text": [
      "Accuracy is:  0.8760162601626016\n",
      "\n",
      "Classification Report: \n",
      "               precision    recall  f1-score   support\n",
      "\n",
      "           0       0.90      0.86      0.88       505\n",
      "           1       0.86      0.90      0.88       479\n",
      "\n",
      "    accuracy                           0.88       984\n",
      "   macro avg       0.88      0.88      0.88       984\n",
      "weighted avg       0.88      0.88      0.88       984\n",
      "\n",
      "AUC_ROC Score:  0.8765208044812832 \n",
      "\n",
      "\n",
      "Confusion Matrix: \n"
     ]
    },
    {
     "data": {
      "image/png": "[encoded data removed]",
      "text/plain": [
       "<Figure size 1000x500 with 2 Axes>"
      ]
     },
     "metadata": {},
     "output_type": "display_data"
    }
   ],
   "source": [
    "pred_rf = rf_classifier.predict(X_test)\n",
    "\n",
    "evaluator(Y_test, pred_rf)"
   ]
  },
  {
   "cell_type": "markdown",
   "id": "7159fd49",
   "metadata": {
    "papermill": {
     "duration": 0.019898,
     "end_time": "2023-05-30T09:31:26.310407",
     "exception": false,
     "start_time": "2023-05-30T09:31:26.290509",
     "status": "completed"
    },
    "tags": []
   },
   "source": [
    "# Gradient Boosting"
   ]
  },
  {
   "cell_type": "code",
   "execution_count": 49,
   "id": "f00acf8a",
   "metadata": {
    "execution": {
     "iopub.execute_input": "2023-05-30T09:31:26.353002Z",
     "iopub.status.busy": "2023-05-30T09:31:26.352409Z",
     "iopub.status.idle": "2023-05-30T09:31:26.440966Z",
     "shell.execute_reply": "2023-05-30T09:31:26.440082Z"
    },
    "papermill": {
     "duration": 0.112014,
     "end_time": "2023-05-30T09:31:26.442636",
     "exception": false,
     "start_time": "2023-05-30T09:31:26.330622",
     "status": "completed"
    },
    "tags": []
   },
   "outputs": [
    {
     "data": {
      "text/html": [
       "<style>#sk-container-id-3 {color: black;background-color: white;}#sk-container-id-3 pre{padding: 0;}#sk-container-id-3 div.sk-toggleable {background-color: white;}#sk-container-id-3 label.sk-toggleable__label {cursor: pointer;display: block;width: 100%;margin-bottom: 0;padding: 0.3em;box-sizing: border-box;text-align: center;}#sk-container-id-3 label.sk-toggleable__label-arrow:before {content: \"▸\";float: left;margin-right: 0.25em;color: #696969;}#sk-container-id-3 label.sk-toggleable__label-arrow:hover:before {color: black;}#sk-container-id-3 div.sk-estimator:hover label.sk-toggleable__label-arrow:before {color: black;}#sk-container-id-3 div.sk-toggleable__content {max-height: 0;max-width: 0;overflow: hidden;text-align: left;background-color: #f0f8ff;}#sk-container-id-3 div.sk-toggleable__content pre {margin: 0.2em;color: black;border-radius: 0.25em;background-color: #f0f8ff;}#sk-container-id-3 input.sk-toggleable__control:checked~div.sk-toggleable__content {max-height: 200px;max-width: 100%;overflow: auto;}#sk-container-id-3 input.sk-toggleable__control:checked~label.sk-toggleable__label-arrow:before {content: \"▾\";}#sk-container-id-3 div.sk-estimator input.sk-toggleable__control:checked~label.sk-toggleable__label {background-color: #d4ebff;}#sk-container-id-3 div.sk-label input.sk-toggleable__control:checked~label.sk-toggleable__label {background-color: #d4ebff;}#sk-container-id-3 input.sk-hidden--visually {border: 0;clip: rect(1px 1px 1px 1px);clip: rect(1px, 1px, 1px, 1px);height: 1px;margin: -1px;overflow: hidden;padding: 0;position: absolute;width: 1px;}#sk-container-id-3 div.sk-estimator {font-family: monospace;background-color: #f0f8ff;border: 1px dotted black;border-radius: 0.25em;box-sizing: border-box;margin-bottom: 0.5em;}#sk-container-id-3 div.sk-estimator:hover {background-color: #d4ebff;}#sk-container-id-3 div.sk-parallel-item::after {content: \"\";width: 100%;border-bottom: 1px solid gray;flex-grow: 1;}#sk-container-id-3 div.sk-label:hover label.sk-toggleable__label {background-color: #d4ebff;}#sk-container-id-3 div.sk-serial::before {content: \"\";position: absolute;border-left: 1px solid gray;box-sizing: border-box;top: 0;bottom: 0;left: 50%;z-index: 0;}#sk-container-id-3 div.sk-serial {display: flex;flex-direction: column;align-items: center;background-color: white;padding-right: 0.2em;padding-left: 0.2em;position: relative;}#sk-container-id-3 div.sk-item {position: relative;z-index: 1;}#sk-container-id-3 div.sk-parallel {display: flex;align-items: stretch;justify-content: center;background-color: white;position: relative;}#sk-container-id-3 div.sk-item::before, #sk-container-id-3 div.sk-parallel-item::before {content: \"\";position: absolute;border-left: 1px solid gray;box-sizing: border-box;top: 0;bottom: 0;left: 50%;z-index: -1;}#sk-container-id-3 div.sk-parallel-item {display: flex;flex-direction: column;z-index: 1;position: relative;background-color: white;}#sk-container-id-3 div.sk-parallel-item:first-child::after {align-self: flex-end;width: 50%;}#sk-container-id-3 div.sk-parallel-item:last-child::after {align-self: flex-start;width: 50%;}#sk-container-id-3 div.sk-parallel-item:only-child::after {width: 0;}#sk-container-id-3 div.sk-dashed-wrapped {border: 1px dashed gray;margin: 0 0.4em 0.5em 0.4em;box-sizing: border-box;padding-bottom: 0.4em;background-color: white;}#sk-container-id-3 div.sk-label label {font-family: monospace;font-weight: bold;display: inline-block;line-height: 1.2em;}#sk-container-id-3 div.sk-label-container {text-align: center;}#sk-container-id-3 div.sk-container {/* jupyter's `normalize.less` sets `[hidden] { display: none; }` but bootstrap.min.css set `[hidden] { display: none !important; }` so we also need the `!important` here to be able to override the default hidden behavior on the sphinx rendered scikit-learn.org. See: https://github.com/scikit-learn/scikit-learn/issues/21755 */display: inline-block !important;position: relative;}#sk-container-id-3 div.sk-text-repr-fallback {display: none;}</style><div id=\"sk-container-id-3\" class=\"sk-top-container\"><div class=\"sk-text-repr-fallback\"><pre>GradientBoostingClassifier()</pre><b>In a Jupyter environment, please rerun this cell to show the HTML representation or trust the notebook. <br />On GitHub, the HTML representation is unable to render, please try loading this page with nbviewer.org.</b></div><div class=\"sk-container\" hidden><div class=\"sk-item\"><div class=\"sk-estimator sk-toggleable\"><input class=\"sk-toggleable__control sk-hidden--visually\" id=\"sk-estimator-id-3\" type=\"checkbox\" checked><label for=\"sk-estimator-id-3\" class=\"sk-toggleable__label sk-toggleable__label-arrow\">GradientBoostingClassifier</label><div class=\"sk-toggleable__content\"><pre>GradientBoostingClassifier()</pre></div></div></div></div></div>"
      ],
      "text/plain": [
       "GradientBoostingClassifier()"
      ]
     },
     "execution_count": 49,
     "metadata": {},
     "output_type": "execute_result"
    }
   ],
   "source": [
    "from sklearn.ensemble import GradientBoostingClassifier\n",
    "gb_classifier = GradientBoostingClassifier()\n",
    "gb_classifier.fit(X_train,Y_train)"
   ]
  },
  {
   "cell_type": "code",
   "execution_count": 50,
   "id": "c4aad390",
   "metadata": {
    "execution": {
     "iopub.execute_input": "2023-05-30T09:31:26.484865Z",
     "iopub.status.busy": "2023-05-30T09:31:26.484199Z",
     "iopub.status.idle": "2023-05-30T09:31:26.774268Z",
     "shell.execute_reply": "2023-05-30T09:31:26.773365Z"
    },
    "papermill": {
     "duration": 0.313157,
     "end_time": "2023-05-30T09:31:26.775913",
     "exception": false,
     "start_time": "2023-05-30T09:31:26.462756",
     "status": "completed"
    },
    "tags": []
   },
   "outputs": [
    {
     "name": "stdout",
     "output_type": "stream",
     "text": [
      "Accuracy is:  0.8434959349593496\n",
      "\n",
      "Classification Report: \n",
      "               precision    recall  f1-score   support\n",
      "\n",
      "           0       0.90      0.78      0.84       505\n",
      "           1       0.80      0.91      0.85       479\n",
      "\n",
      "    accuracy                           0.84       984\n",
      "   macro avg       0.85      0.85      0.84       984\n",
      "weighted avg       0.85      0.84      0.84       984\n",
      "\n",
      "AUC_ROC Score:  0.8451063477955311 \n",
      "\n",
      "\n",
      "Confusion Matrix: \n"
     ]
    },
    {
     "data": {
      "image/png": "[encoded data removed]",
      "text/plain": [
       "<Figure size 1000x500 with 2 Axes>"
      ]
     },
     "metadata": {},
     "output_type": "display_data"
    }
   ],
   "source": [
    "# Predict\n",
    "pred_gb = gb_classifier.predict(X_test)\n",
    "evaluator(Y_test, pred_gb)"
   ]
  },
  {
   "cell_type": "code",
   "execution_count": 51,
   "id": "970b516d",
   "metadata": {
    "execution": {
     "iopub.execute_input": "2023-05-30T09:31:26.819993Z",
     "iopub.status.busy": "2023-05-30T09:31:26.819653Z",
     "iopub.status.idle": "2023-05-30T09:31:30.706016Z",
     "shell.execute_reply": "2023-05-30T09:31:30.705080Z"
    },
    "papermill": {
     "duration": 3.911082,
     "end_time": "2023-05-30T09:31:30.708212",
     "exception": false,
     "start_time": "2023-05-30T09:31:26.797130",
     "status": "completed"
    },
    "tags": []
   },
   "outputs": [
    {
     "name": "stdout",
     "output_type": "stream",
     "text": [
      "[09:31:26] WARNING: ../src/learner.cc:767: \n",
      "Parameters: { \"bagging_fraction\", \"boosting_type\", \"feature_fraction\", \"lambda_l1\", \"lambda_l2\", \"min_child_samples\", \"num_leaves\" } are not used.\n",
      "\n"
     ]
    },
    {
     "data": {
      "text/html": [
       "<style>#sk-container-id-4 {color: black;background-color: white;}#sk-container-id-4 pre{padding: 0;}#sk-container-id-4 div.sk-toggleable {background-color: white;}#sk-container-id-4 label.sk-toggleable__label {cursor: pointer;display: block;width: 100%;margin-bottom: 0;padding: 0.3em;box-sizing: border-box;text-align: center;}#sk-container-id-4 label.sk-toggleable__label-arrow:before {content: \"▸\";float: left;margin-right: 0.25em;color: #696969;}#sk-container-id-4 label.sk-toggleable__label-arrow:hover:before {color: black;}#sk-container-id-4 div.sk-estimator:hover label.sk-toggleable__label-arrow:before {color: black;}#sk-container-id-4 div.sk-toggleable__content {max-height: 0;max-width: 0;overflow: hidden;text-align: left;background-color: #f0f8ff;}#sk-container-id-4 div.sk-toggleable__content pre {margin: 0.2em;color: black;border-radius: 0.25em;background-color: #f0f8ff;}#sk-container-id-4 input.sk-toggleable__control:checked~div.sk-toggleable__content {max-height: 200px;max-width: 100%;overflow: auto;}#sk-container-id-4 input.sk-toggleable__control:checked~label.sk-toggleable__label-arrow:before {content: \"▾\";}#sk-container-id-4 div.sk-estimator input.sk-toggleable__control:checked~label.sk-toggleable__label {background-color: #d4ebff;}#sk-container-id-4 div.sk-label input.sk-toggleable__control:checked~label.sk-toggleable__label {background-color: #d4ebff;}#sk-container-id-4 input.sk-hidden--visually {border: 0;clip: rect(1px 1px 1px 1px);clip: rect(1px, 1px, 1px, 1px);height: 1px;margin: -1px;overflow: hidden;padding: 0;position: absolute;width: 1px;}#sk-container-id-4 div.sk-estimator {font-family: monospace;background-color: #f0f8ff;border: 1px dotted black;border-radius: 0.25em;box-sizing: border-box;margin-bottom: 0.5em;}#sk-container-id-4 div.sk-estimator:hover {background-color: #d4ebff;}#sk-container-id-4 div.sk-parallel-item::after {content: \"\";width: 100%;border-bottom: 1px solid gray;flex-grow: 1;}#sk-container-id-4 div.sk-label:hover label.sk-toggleable__label {background-color: #d4ebff;}#sk-container-id-4 div.sk-serial::before {content: \"\";position: absolute;border-left: 1px solid gray;box-sizing: border-box;top: 0;bottom: 0;left: 50%;z-index: 0;}#sk-container-id-4 div.sk-serial {display: flex;flex-direction: column;align-items: center;background-color: white;padding-right: 0.2em;padding-left: 0.2em;position: relative;}#sk-container-id-4 div.sk-item {position: relative;z-index: 1;}#sk-container-id-4 div.sk-parallel {display: flex;align-items: stretch;justify-content: center;background-color: white;position: relative;}#sk-container-id-4 div.sk-item::before, #sk-container-id-4 div.sk-parallel-item::before {content: \"\";position: absolute;border-left: 1px solid gray;box-sizing: border-box;top: 0;bottom: 0;left: 50%;z-index: -1;}#sk-container-id-4 div.sk-parallel-item {display: flex;flex-direction: column;z-index: 1;position: relative;background-color: white;}#sk-container-id-4 div.sk-parallel-item:first-child::after {align-self: flex-end;width: 50%;}#sk-container-id-4 div.sk-parallel-item:last-child::after {align-self: flex-start;width: 50%;}#sk-container-id-4 div.sk-parallel-item:only-child::after {width: 0;}#sk-container-id-4 div.sk-dashed-wrapped {border: 1px dashed gray;margin: 0 0.4em 0.5em 0.4em;box-sizing: border-box;padding-bottom: 0.4em;background-color: white;}#sk-container-id-4 div.sk-label label {font-family: monospace;font-weight: bold;display: inline-block;line-height: 1.2em;}#sk-container-id-4 div.sk-label-container {text-align: center;}#sk-container-id-4 div.sk-container {/* jupyter's `normalize.less` sets `[hidden] { display: none; }` but bootstrap.min.css set `[hidden] { display: none !important; }` so we also need the `!important` here to be able to override the default hidden behavior on the sphinx rendered scikit-learn.org. See: https://github.com/scikit-learn/scikit-learn/issues/21755 */display: inline-block !important;position: relative;}#sk-container-id-4 div.sk-text-repr-fallback {display: none;}</style><div id=\"sk-container-id-4\" class=\"sk-top-container\"><div class=\"sk-text-repr-fallback\"><pre>XGBClassifier(alpha=0.5108154566815425, bagging_fraction=0.6, base_score=None,\n",
       "              booster=None, boosting_type=&#x27;gbdt&#x27;, callbacks=None,\n",
       "              colsample_bylevel=None, colsample_bynode=None,\n",
       "              colsample_bytree=1.0, early_stopping_rounds=None,\n",
       "              enable_categorical=False, eval_metric=&#x27;auc&#x27;, feature_fraction=0.6,\n",
       "              feature_types=None, gamma=1.9276236172849432, gpu_id=None,\n",
       "              grow_policy=None, importance_type=None,\n",
       "              interaction_constraints=None, lambda_l1=1.4679791331431786,\n",
       "              lambda_l2=0.008403131421304244,\n",
       "              learning_rate=0.0015584305322779073, max_bin=None,\n",
       "              max_cat_threshold=None, max_cat_to_onehot=None,\n",
       "              max_delta_step=None, max_depth=7, max_leaves=None,\n",
       "              min_child_samples=56, min_child_weight=2.5517043283716605, ...)</pre><b>In a Jupyter environment, please rerun this cell to show the HTML representation or trust the notebook. <br />On GitHub, the HTML representation is unable to render, please try loading this page with nbviewer.org.</b></div><div class=\"sk-container\" hidden><div class=\"sk-item\"><div class=\"sk-estimator sk-toggleable\"><input class=\"sk-toggleable__control sk-hidden--visually\" id=\"sk-estimator-id-4\" type=\"checkbox\" checked><label for=\"sk-estimator-id-4\" class=\"sk-toggleable__label sk-toggleable__label-arrow\">XGBClassifier</label><div class=\"sk-toggleable__content\"><pre>XGBClassifier(alpha=0.5108154566815425, bagging_fraction=0.6, base_score=None,\n",
       "              booster=None, boosting_type=&#x27;gbdt&#x27;, callbacks=None,\n",
       "              colsample_bylevel=None, colsample_bynode=None,\n",
       "              colsample_bytree=1.0, early_stopping_rounds=None,\n",
       "              enable_categorical=False, eval_metric=&#x27;auc&#x27;, feature_fraction=0.6,\n",
       "              feature_types=None, gamma=1.9276236172849432, gpu_id=None,\n",
       "              grow_policy=None, importance_type=None,\n",
       "              interaction_constraints=None, lambda_l1=1.4679791331431786,\n",
       "              lambda_l2=0.008403131421304244,\n",
       "              learning_rate=0.0015584305322779073, max_bin=None,\n",
       "              max_cat_threshold=None, max_cat_to_onehot=None,\n",
       "              max_delta_step=None, max_depth=7, max_leaves=None,\n",
       "              min_child_samples=56, min_child_weight=2.5517043283716605, ...)</pre></div></div></div></div></div>"
      ],
      "text/plain": [
       "XGBClassifier(alpha=0.5108154566815425, bagging_fraction=0.6, base_score=None,\n",
       "              booster=None, boosting_type='gbdt', callbacks=None,\n",
       "              colsample_bylevel=None, colsample_bynode=None,\n",
       "              colsample_bytree=1.0, early_stopping_rounds=None,\n",
       "              enable_categorical=False, eval_metric='auc', feature_fraction=0.6,\n",
       "              feature_types=None, gamma=1.9276236172849432, gpu_id=None,\n",
       "              grow_policy=None, importance_type=None,\n",
       "              interaction_constraints=None, lambda_l1=1.4679791331431786,\n",
       "              lambda_l2=0.008403131421304244,\n",
       "              learning_rate=0.0015584305322779073, max_bin=None,\n",
       "              max_cat_threshold=None, max_cat_to_onehot=None,\n",
       "              max_delta_step=None, max_depth=7, max_leaves=None,\n",
       "              min_child_samples=56, min_child_weight=2.5517043283716605, ...)"
      ]
     },
     "execution_count": 51,
     "metadata": {},
     "output_type": "execute_result"
    }
   ],
   "source": [
    "xgb_params=  {\n",
    "              'objective': 'binary:logistic',\n",
    "              'eval_metric': 'auc',\n",
    "              'boosting_type' :\t 'gbdt',\n",
    "              'lambda_l1' :\t 1.4679791331431786,\n",
    "              'lambda_l2' :\t 0.008403131421304244,\n",
    "              'colsample_bytree' :\t 1.0,\n",
    "              'bagging_fraction' :\t 0.6,\n",
    "              'feature_fraction' :\t 0.6,\n",
    "              'learning_rate' :\t 0.0015584305322779072,\n",
    "              'max_depth' :\t 7,\n",
    "              'num_leaves' :88,\n",
    "              'alpha': 0.5108154566815425,\n",
    "              'gamma': 1.9276236172849432,\n",
    "              'reg_lambda': 11.40999855634382,\n",
    "              'subsample': 0.8386116751473301,\n",
    "              'min_child_weight': 2.5517043283716605,\n",
    "              'min_child_samples':\t 56\n",
    "}\n",
    "\n",
    "xgb =  xgb.XGBClassifier(**xgb_params,n_estimators=10000,random_state=1)\n",
    "xgb.fit(X_train,Y_train)"
   ]
  },
  {
   "cell_type": "code",
   "execution_count": 52,
   "id": "b969a0f3",
   "metadata": {
    "execution": {
     "iopub.execute_input": "2023-05-30T09:31:30.751980Z",
     "iopub.status.busy": "2023-05-30T09:31:30.751659Z",
     "iopub.status.idle": "2023-05-30T09:31:31.046793Z",
     "shell.execute_reply": "2023-05-30T09:31:31.045529Z"
    },
    "papermill": {
     "duration": 0.319165,
     "end_time": "2023-05-30T09:31:31.048503",
     "exception": false,
     "start_time": "2023-05-30T09:31:30.729338",
     "status": "completed"
    },
    "tags": []
   },
   "outputs": [
    {
     "name": "stdout",
     "output_type": "stream",
     "text": [
      "Accuracy is:  0.8333333333333334\n",
      "\n",
      "Classification Report: \n",
      "               precision    recall  f1-score   support\n",
      "\n",
      "           0       0.85      0.82      0.83       505\n",
      "           1       0.82      0.85      0.83       479\n",
      "\n",
      "    accuracy                           0.83       984\n",
      "   macro avg       0.83      0.83      0.83       984\n",
      "weighted avg       0.83      0.83      0.83       984\n",
      "\n",
      "AUC_ROC Score:  0.8337005725624754 \n",
      "\n",
      "\n",
      "Confusion Matrix: \n"
     ]
    },
    {
     "data": {
      "image/png": "[encoded data removed]",
      "text/plain": [
       "<Figure size 1000x500 with 2 Axes>"
      ]
     },
     "metadata": {},
     "output_type": "display_data"
    }
   ],
   "source": [
    "# Predict\n",
    "pred_xgb = xgb.predict(X_test)\n",
    "evaluator(Y_test, pred_xgb)"
   ]
  },
  {
   "cell_type": "code",
   "execution_count": 53,
   "id": "509195d8",
   "metadata": {
    "execution": {
     "iopub.execute_input": "2023-05-30T09:31:31.092662Z",
     "iopub.status.busy": "2023-05-30T09:31:31.092368Z",
     "iopub.status.idle": "2023-05-30T09:31:31.112749Z",
     "shell.execute_reply": "2023-05-30T09:31:31.112133Z"
    },
    "papermill": {
     "duration": 0.04387,
     "end_time": "2023-05-30T09:31:31.114159",
     "exception": false,
     "start_time": "2023-05-30T09:31:31.070289",
     "status": "completed"
    },
    "tags": []
   },
   "outputs": [
    {
     "data": {
      "text/html": [
       "<div>\n",
       "<style scoped>\n",
       "    .dataframe tbody tr th:only-of-type {\n",
       "        vertical-align: middle;\n",
       "    }\n",
       "\n",
       "    .dataframe tbody tr th {\n",
       "        vertical-align: top;\n",
       "    }\n",
       "\n",
       "    .dataframe thead th {\n",
       "        text-align: right;\n",
       "    }\n",
       "</style>\n",
       "<table border=\"1\" class=\"dataframe\">\n",
       "  <thead>\n",
       "    <tr style=\"text-align: right;\">\n",
       "      <th></th>\n",
       "      <th>ID</th>\n",
       "      <th>A1_Score</th>\n",
       "      <th>A2_Score</th>\n",
       "      <th>A3_Score</th>\n",
       "      <th>A4_Score</th>\n",
       "      <th>A5_Score</th>\n",
       "      <th>A6_Score</th>\n",
       "      <th>A7_Score</th>\n",
       "      <th>A8_Score</th>\n",
       "      <th>A9_Score</th>\n",
       "      <th>...</th>\n",
       "      <th>age</th>\n",
       "      <th>gender</th>\n",
       "      <th>ethnicity</th>\n",
       "      <th>jaundice</th>\n",
       "      <th>austim</th>\n",
       "      <th>contry_of_res</th>\n",
       "      <th>used_app_before</th>\n",
       "      <th>result</th>\n",
       "      <th>age_desc</th>\n",
       "      <th>relation</th>\n",
       "    </tr>\n",
       "  </thead>\n",
       "  <tbody>\n",
       "    <tr>\n",
       "      <th>0</th>\n",
       "      <td>1</td>\n",
       "      <td>0</td>\n",
       "      <td>0</td>\n",
       "      <td>0</td>\n",
       "      <td>0</td>\n",
       "      <td>0</td>\n",
       "      <td>0</td>\n",
       "      <td>0</td>\n",
       "      <td>1</td>\n",
       "      <td>0</td>\n",
       "      <td>...</td>\n",
       "      <td>13.445319</td>\n",
       "      <td>m</td>\n",
       "      <td>Asian</td>\n",
       "      <td>no</td>\n",
       "      <td>no</td>\n",
       "      <td>United Arab Emirates</td>\n",
       "      <td>no</td>\n",
       "      <td>-0.914467</td>\n",
       "      <td>18 and more</td>\n",
       "      <td>?</td>\n",
       "    </tr>\n",
       "    <tr>\n",
       "      <th>1</th>\n",
       "      <td>2</td>\n",
       "      <td>1</td>\n",
       "      <td>0</td>\n",
       "      <td>0</td>\n",
       "      <td>0</td>\n",
       "      <td>1</td>\n",
       "      <td>0</td>\n",
       "      <td>0</td>\n",
       "      <td>0</td>\n",
       "      <td>0</td>\n",
       "      <td>...</td>\n",
       "      <td>25.057229</td>\n",
       "      <td>f</td>\n",
       "      <td>?</td>\n",
       "      <td>yes</td>\n",
       "      <td>no</td>\n",
       "      <td>New Zealand</td>\n",
       "      <td>no</td>\n",
       "      <td>4.553447</td>\n",
       "      <td>18 and more</td>\n",
       "      <td>Parent</td>\n",
       "    </tr>\n",
       "    <tr>\n",
       "      <th>2</th>\n",
       "      <td>3</td>\n",
       "      <td>1</td>\n",
       "      <td>0</td>\n",
       "      <td>0</td>\n",
       "      <td>1</td>\n",
       "      <td>0</td>\n",
       "      <td>1</td>\n",
       "      <td>0</td>\n",
       "      <td>1</td>\n",
       "      <td>0</td>\n",
       "      <td>...</td>\n",
       "      <td>28.799885</td>\n",
       "      <td>f</td>\n",
       "      <td>Asian</td>\n",
       "      <td>no</td>\n",
       "      <td>no</td>\n",
       "      <td>Austria</td>\n",
       "      <td>no</td>\n",
       "      <td>-1.581115</td>\n",
       "      <td>18 and more</td>\n",
       "      <td>Self</td>\n",
       "    </tr>\n",
       "    <tr>\n",
       "      <th>3</th>\n",
       "      <td>4</td>\n",
       "      <td>1</td>\n",
       "      <td>1</td>\n",
       "      <td>1</td>\n",
       "      <td>0</td>\n",
       "      <td>1</td>\n",
       "      <td>0</td>\n",
       "      <td>1</td>\n",
       "      <td>0</td>\n",
       "      <td>1</td>\n",
       "      <td>...</td>\n",
       "      <td>16.501526</td>\n",
       "      <td>f</td>\n",
       "      <td>Middle Eastern</td>\n",
       "      <td>yes</td>\n",
       "      <td>no</td>\n",
       "      <td>Bahamas</td>\n",
       "      <td>no</td>\n",
       "      <td>11.779210</td>\n",
       "      <td>18 and more</td>\n",
       "      <td>Relative</td>\n",
       "    </tr>\n",
       "    <tr>\n",
       "      <th>4</th>\n",
       "      <td>5</td>\n",
       "      <td>1</td>\n",
       "      <td>0</td>\n",
       "      <td>0</td>\n",
       "      <td>1</td>\n",
       "      <td>1</td>\n",
       "      <td>0</td>\n",
       "      <td>0</td>\n",
       "      <td>1</td>\n",
       "      <td>1</td>\n",
       "      <td>...</td>\n",
       "      <td>54.223869</td>\n",
       "      <td>f</td>\n",
       "      <td>White-European</td>\n",
       "      <td>no</td>\n",
       "      <td>no</td>\n",
       "      <td>Australia</td>\n",
       "      <td>no</td>\n",
       "      <td>10.717321</td>\n",
       "      <td>18 and more</td>\n",
       "      <td>Self</td>\n",
       "    </tr>\n",
       "  </tbody>\n",
       "</table>\n",
       "<p>5 rows × 21 columns</p>\n",
       "</div>"
      ],
      "text/plain": [
       "   ID  A1_Score  A2_Score  A3_Score  A4_Score  A5_Score  A6_Score  A7_Score  \\\n",
       "0   1         0         0         0         0         0         0         0   \n",
       "1   2         1         0         0         0         1         0         0   \n",
       "2   3         1         0         0         1         0         1         0   \n",
       "3   4         1         1         1         0         1         0         1   \n",
       "4   5         1         0         0         1         1         0         0   \n",
       "\n",
       "   A8_Score  A9_Score  ...        age  gender        ethnicity jaundice  \\\n",
       "0         1         0  ...  13.445319       m            Asian       no   \n",
       "1         0         0  ...  25.057229       f                ?      yes   \n",
       "2         1         0  ...  28.799885       f            Asian       no   \n",
       "3         0         1  ...  16.501526       f  Middle Eastern       yes   \n",
       "4         1         1  ...  54.223869       f   White-European       no   \n",
       "\n",
       "  austim         contry_of_res used_app_before     result     age_desc  \\\n",
       "0     no  United Arab Emirates              no  -0.914467  18 and more   \n",
       "1     no           New Zealand              no   4.553447  18 and more   \n",
       "2     no               Austria              no  -1.581115  18 and more   \n",
       "3     no               Bahamas              no  11.779210  18 and more   \n",
       "4     no             Australia              no  10.717321  18 and more   \n",
       "\n",
       "   relation  \n",
       "0         ?  \n",
       "1    Parent  \n",
       "2      Self  \n",
       "3  Relative  \n",
       "4      Self  \n",
       "\n",
       "[5 rows x 21 columns]"
      ]
     },
     "execution_count": 53,
     "metadata": {},
     "output_type": "execute_result"
    }
   ],
   "source": [
    "test=pd.read_csv(\"../input/autism-prediction/Autism-prediction/test.csv\")\n",
    "test.head()"
   ]
  },
  {
   "cell_type": "code",
   "execution_count": 54,
   "id": "777c37ea",
   "metadata": {
    "execution": {
     "iopub.execute_input": "2023-05-30T09:31:31.158451Z",
     "iopub.status.busy": "2023-05-30T09:31:31.157493Z",
     "iopub.status.idle": "2023-05-30T09:31:31.162863Z",
     "shell.execute_reply": "2023-05-30T09:31:31.162317Z"
    },
    "papermill": {
     "duration": 0.028633,
     "end_time": "2023-05-30T09:31:31.164227",
     "exception": false,
     "start_time": "2023-05-30T09:31:31.135594",
     "status": "completed"
    },
    "tags": []
   },
   "outputs": [],
   "source": [
    "test = test.rename(columns = {'austim': 'autism'}, errors=\"raise\")\n",
    "\n",
    "test.drop( ['age_desc','contry_of_res'] , axis = 1, inplace=True)"
   ]
  },
  {
   "cell_type": "code",
   "execution_count": 55,
   "id": "e3204216",
   "metadata": {
    "execution": {
     "iopub.execute_input": "2023-05-30T09:31:31.209774Z",
     "iopub.status.busy": "2023-05-30T09:31:31.208762Z",
     "iopub.status.idle": "2023-05-30T09:31:31.225282Z",
     "shell.execute_reply": "2023-05-30T09:31:31.224704Z"
    },
    "papermill": {
     "duration": 0.041767,
     "end_time": "2023-05-30T09:31:31.226806",
     "exception": false,
     "start_time": "2023-05-30T09:31:31.185039",
     "status": "completed"
    },
    "tags": []
   },
   "outputs": [
    {
     "data": {
      "text/html": [
       "<div>\n",
       "<style scoped>\n",
       "    .dataframe tbody tr th:only-of-type {\n",
       "        vertical-align: middle;\n",
       "    }\n",
       "\n",
       "    .dataframe tbody tr th {\n",
       "        vertical-align: top;\n",
       "    }\n",
       "\n",
       "    .dataframe thead th {\n",
       "        text-align: right;\n",
       "    }\n",
       "</style>\n",
       "<table border=\"1\" class=\"dataframe\">\n",
       "  <thead>\n",
       "    <tr style=\"text-align: right;\">\n",
       "      <th></th>\n",
       "      <th>A1_Score</th>\n",
       "      <th>A2_Score</th>\n",
       "      <th>A3_Score</th>\n",
       "      <th>A4_Score</th>\n",
       "      <th>A5_Score</th>\n",
       "      <th>A6_Score</th>\n",
       "      <th>A7_Score</th>\n",
       "      <th>A8_Score</th>\n",
       "      <th>A9_Score</th>\n",
       "      <th>A10_Score</th>\n",
       "      <th>age</th>\n",
       "      <th>gender</th>\n",
       "      <th>ethnicity</th>\n",
       "      <th>jaundice</th>\n",
       "      <th>autism</th>\n",
       "      <th>used_app_before</th>\n",
       "      <th>result</th>\n",
       "      <th>relation</th>\n",
       "    </tr>\n",
       "  </thead>\n",
       "  <tbody>\n",
       "    <tr>\n",
       "      <th>0</th>\n",
       "      <td>0</td>\n",
       "      <td>0</td>\n",
       "      <td>0</td>\n",
       "      <td>0</td>\n",
       "      <td>0</td>\n",
       "      <td>0</td>\n",
       "      <td>0</td>\n",
       "      <td>1</td>\n",
       "      <td>0</td>\n",
       "      <td>0</td>\n",
       "      <td>13.445319</td>\n",
       "      <td>m</td>\n",
       "      <td>Asian</td>\n",
       "      <td>no</td>\n",
       "      <td>no</td>\n",
       "      <td>no</td>\n",
       "      <td>-0.914467</td>\n",
       "      <td>?</td>\n",
       "    </tr>\n",
       "    <tr>\n",
       "      <th>1</th>\n",
       "      <td>1</td>\n",
       "      <td>0</td>\n",
       "      <td>0</td>\n",
       "      <td>0</td>\n",
       "      <td>1</td>\n",
       "      <td>0</td>\n",
       "      <td>0</td>\n",
       "      <td>0</td>\n",
       "      <td>0</td>\n",
       "      <td>0</td>\n",
       "      <td>25.057229</td>\n",
       "      <td>f</td>\n",
       "      <td>?</td>\n",
       "      <td>yes</td>\n",
       "      <td>no</td>\n",
       "      <td>no</td>\n",
       "      <td>4.553447</td>\n",
       "      <td>Parent</td>\n",
       "    </tr>\n",
       "    <tr>\n",
       "      <th>2</th>\n",
       "      <td>1</td>\n",
       "      <td>0</td>\n",
       "      <td>0</td>\n",
       "      <td>1</td>\n",
       "      <td>0</td>\n",
       "      <td>1</td>\n",
       "      <td>0</td>\n",
       "      <td>1</td>\n",
       "      <td>0</td>\n",
       "      <td>0</td>\n",
       "      <td>28.799885</td>\n",
       "      <td>f</td>\n",
       "      <td>Asian</td>\n",
       "      <td>no</td>\n",
       "      <td>no</td>\n",
       "      <td>no</td>\n",
       "      <td>-1.581115</td>\n",
       "      <td>Self</td>\n",
       "    </tr>\n",
       "    <tr>\n",
       "      <th>3</th>\n",
       "      <td>1</td>\n",
       "      <td>1</td>\n",
       "      <td>1</td>\n",
       "      <td>0</td>\n",
       "      <td>1</td>\n",
       "      <td>0</td>\n",
       "      <td>1</td>\n",
       "      <td>0</td>\n",
       "      <td>1</td>\n",
       "      <td>1</td>\n",
       "      <td>16.501526</td>\n",
       "      <td>f</td>\n",
       "      <td>Middle Eastern</td>\n",
       "      <td>yes</td>\n",
       "      <td>no</td>\n",
       "      <td>no</td>\n",
       "      <td>11.779210</td>\n",
       "      <td>Relative</td>\n",
       "    </tr>\n",
       "    <tr>\n",
       "      <th>4</th>\n",
       "      <td>1</td>\n",
       "      <td>0</td>\n",
       "      <td>0</td>\n",
       "      <td>1</td>\n",
       "      <td>1</td>\n",
       "      <td>0</td>\n",
       "      <td>0</td>\n",
       "      <td>1</td>\n",
       "      <td>1</td>\n",
       "      <td>0</td>\n",
       "      <td>54.223869</td>\n",
       "      <td>f</td>\n",
       "      <td>White-European</td>\n",
       "      <td>no</td>\n",
       "      <td>no</td>\n",
       "      <td>no</td>\n",
       "      <td>10.717321</td>\n",
       "      <td>Self</td>\n",
       "    </tr>\n",
       "  </tbody>\n",
       "</table>\n",
       "</div>"
      ],
      "text/plain": [
       "   A1_Score  A2_Score  A3_Score  A4_Score  A5_Score  A6_Score  A7_Score  \\\n",
       "0         0         0         0         0         0         0         0   \n",
       "1         1         0         0         0         1         0         0   \n",
       "2         1         0         0         1         0         1         0   \n",
       "3         1         1         1         0         1         0         1   \n",
       "4         1         0         0         1         1         0         0   \n",
       "\n",
       "   A8_Score  A9_Score  A10_Score        age gender        ethnicity jaundice  \\\n",
       "0         1         0          0  13.445319      m            Asian       no   \n",
       "1         0         0          0  25.057229      f                ?      yes   \n",
       "2         1         0          0  28.799885      f            Asian       no   \n",
       "3         0         1          1  16.501526      f  Middle Eastern       yes   \n",
       "4         1         1          0  54.223869      f   White-European       no   \n",
       "\n",
       "  autism used_app_before     result  relation  \n",
       "0     no              no  -0.914467         ?  \n",
       "1     no              no   4.553447    Parent  \n",
       "2     no              no  -1.581115      Self  \n",
       "3     no              no  11.779210  Relative  \n",
       "4     no              no  10.717321      Self  "
      ]
     },
     "execution_count": 55,
     "metadata": {},
     "output_type": "execute_result"
    }
   ],
   "source": [
    "X_test = test.drop(\"ID\", axis=1)\n",
    "X_test.head()"
   ]
  },
  {
   "cell_type": "markdown",
   "id": "994285a3",
   "metadata": {
    "papermill": {
     "duration": 0.021479,
     "end_time": "2023-05-30T09:31:31.269728",
     "exception": false,
     "start_time": "2023-05-30T09:31:31.248249",
     "status": "completed"
    },
    "tags": []
   },
   "source": [
    "\n",
    "# level encoding On Test Data"
   ]
  },
  {
   "cell_type": "code",
   "execution_count": 56,
   "id": "99632b03",
   "metadata": {
    "execution": {
     "iopub.execute_input": "2023-05-30T09:31:31.315229Z",
     "iopub.status.busy": "2023-05-30T09:31:31.314258Z",
     "iopub.status.idle": "2023-05-30T09:31:31.327471Z",
     "shell.execute_reply": "2023-05-30T09:31:31.326165Z"
    },
    "papermill": {
     "duration": 0.037768,
     "end_time": "2023-05-30T09:31:31.329025",
     "exception": false,
     "start_time": "2023-05-30T09:31:31.291257",
     "status": "completed"
    },
    "tags": []
   },
   "outputs": [
    {
     "name": "stdout",
     "output_type": "stream",
     "text": [
      "['m' 'f']\n",
      "[1 0]\n",
      "['Asian' '?' 'Middle Eastern ' 'White-European' 'Latino' 'Pasifika'\n",
      " 'Black' 'Hispanic' 'South Asian' 'Others' 'Turkish' 'others']\n",
      "[ 1  0  5 10  4  7  2  3  8  6  9 11]\n",
      "['no' 'yes']\n",
      "[0 1]\n",
      "['no' 'yes']\n",
      "[0 1]\n",
      "['no' 'yes']\n",
      "[0 1]\n",
      "['?' 'Parent' 'Self' 'Relative' 'Health care professional' 'Others']\n",
      "[0 3 5 4 1 2]\n"
     ]
    }
   ],
   "source": [
    "\n",
    "#gender\n",
    "print(test['gender'].unique())\n",
    "test['gender']= label_encoder.fit_transform(test['gender'])\n",
    "print(test['gender'].unique())\n",
    "\n",
    "\n",
    "#ethnicity\n",
    "print(test['ethnicity'].unique())\n",
    "test['ethnicity']= label_encoder.fit_transform(test['ethnicity'])\n",
    "print(test['ethnicity'].unique())\n",
    "\n",
    "\n",
    "#jaundice\n",
    "print(test['jaundice'].unique())\n",
    "test['jaundice']= label_encoder.fit_transform(test['jaundice'])\n",
    "print(test['jaundice'].unique())\n",
    "\n",
    "#autism\n",
    "print(test['autism'].unique())\n",
    "test['autism']= label_encoder.fit_transform(test['autism'])\n",
    "print(test['autism'].unique())\n",
    "\n",
    "#used_app_before\n",
    "print(test['used_app_before'].unique())\n",
    "test['used_app_before']= label_encoder.fit_transform(test['used_app_before'])\n",
    "print(test['used_app_before'].unique())\n",
    "\n",
    "\n",
    "#relation\n",
    "print(test['relation'].unique())\n",
    "test['relation']= label_encoder.fit_transform(test['relation'])\n",
    "print(test['relation'].unique())"
   ]
  },
  {
   "cell_type": "code",
   "execution_count": 57,
   "id": "379af2e6",
   "metadata": {
    "execution": {
     "iopub.execute_input": "2023-05-30T09:31:31.375801Z",
     "iopub.status.busy": "2023-05-30T09:31:31.374959Z",
     "iopub.status.idle": "2023-05-30T09:31:31.388753Z",
     "shell.execute_reply": "2023-05-30T09:31:31.388014Z"
    },
    "papermill": {
     "duration": 0.039279,
     "end_time": "2023-05-30T09:31:31.390308",
     "exception": false,
     "start_time": "2023-05-30T09:31:31.351029",
     "status": "completed"
    },
    "tags": []
   },
   "outputs": [
    {
     "data": {
      "text/html": [
       "<div>\n",
       "<style scoped>\n",
       "    .dataframe tbody tr th:only-of-type {\n",
       "        vertical-align: middle;\n",
       "    }\n",
       "\n",
       "    .dataframe tbody tr th {\n",
       "        vertical-align: top;\n",
       "    }\n",
       "\n",
       "    .dataframe thead th {\n",
       "        text-align: right;\n",
       "    }\n",
       "</style>\n",
       "<table border=\"1\" class=\"dataframe\">\n",
       "  <thead>\n",
       "    <tr style=\"text-align: right;\">\n",
       "      <th></th>\n",
       "      <th>A1_Score</th>\n",
       "      <th>A2_Score</th>\n",
       "      <th>A3_Score</th>\n",
       "      <th>A4_Score</th>\n",
       "      <th>A5_Score</th>\n",
       "      <th>A6_Score</th>\n",
       "      <th>A7_Score</th>\n",
       "      <th>A8_Score</th>\n",
       "      <th>A9_Score</th>\n",
       "      <th>A10_Score</th>\n",
       "      <th>age</th>\n",
       "      <th>gender</th>\n",
       "      <th>ethnicity</th>\n",
       "      <th>jaundice</th>\n",
       "      <th>autism</th>\n",
       "      <th>used_app_before</th>\n",
       "      <th>result</th>\n",
       "      <th>relation</th>\n",
       "    </tr>\n",
       "  </thead>\n",
       "  <tbody>\n",
       "    <tr>\n",
       "      <th>0</th>\n",
       "      <td>0</td>\n",
       "      <td>0</td>\n",
       "      <td>0</td>\n",
       "      <td>0</td>\n",
       "      <td>0</td>\n",
       "      <td>0</td>\n",
       "      <td>0</td>\n",
       "      <td>1</td>\n",
       "      <td>0</td>\n",
       "      <td>0</td>\n",
       "      <td>13.445319</td>\n",
       "      <td>1</td>\n",
       "      <td>1</td>\n",
       "      <td>0</td>\n",
       "      <td>0</td>\n",
       "      <td>0</td>\n",
       "      <td>-0.914467</td>\n",
       "      <td>0</td>\n",
       "    </tr>\n",
       "    <tr>\n",
       "      <th>1</th>\n",
       "      <td>1</td>\n",
       "      <td>0</td>\n",
       "      <td>0</td>\n",
       "      <td>0</td>\n",
       "      <td>1</td>\n",
       "      <td>0</td>\n",
       "      <td>0</td>\n",
       "      <td>0</td>\n",
       "      <td>0</td>\n",
       "      <td>0</td>\n",
       "      <td>25.057229</td>\n",
       "      <td>0</td>\n",
       "      <td>0</td>\n",
       "      <td>1</td>\n",
       "      <td>0</td>\n",
       "      <td>0</td>\n",
       "      <td>4.553447</td>\n",
       "      <td>3</td>\n",
       "    </tr>\n",
       "    <tr>\n",
       "      <th>2</th>\n",
       "      <td>1</td>\n",
       "      <td>0</td>\n",
       "      <td>0</td>\n",
       "      <td>1</td>\n",
       "      <td>0</td>\n",
       "      <td>1</td>\n",
       "      <td>0</td>\n",
       "      <td>1</td>\n",
       "      <td>0</td>\n",
       "      <td>0</td>\n",
       "      <td>28.799885</td>\n",
       "      <td>0</td>\n",
       "      <td>1</td>\n",
       "      <td>0</td>\n",
       "      <td>0</td>\n",
       "      <td>0</td>\n",
       "      <td>-1.581115</td>\n",
       "      <td>5</td>\n",
       "    </tr>\n",
       "    <tr>\n",
       "      <th>3</th>\n",
       "      <td>1</td>\n",
       "      <td>1</td>\n",
       "      <td>1</td>\n",
       "      <td>0</td>\n",
       "      <td>1</td>\n",
       "      <td>0</td>\n",
       "      <td>1</td>\n",
       "      <td>0</td>\n",
       "      <td>1</td>\n",
       "      <td>1</td>\n",
       "      <td>16.501526</td>\n",
       "      <td>0</td>\n",
       "      <td>5</td>\n",
       "      <td>1</td>\n",
       "      <td>0</td>\n",
       "      <td>0</td>\n",
       "      <td>11.779210</td>\n",
       "      <td>4</td>\n",
       "    </tr>\n",
       "    <tr>\n",
       "      <th>4</th>\n",
       "      <td>1</td>\n",
       "      <td>0</td>\n",
       "      <td>0</td>\n",
       "      <td>1</td>\n",
       "      <td>1</td>\n",
       "      <td>0</td>\n",
       "      <td>0</td>\n",
       "      <td>1</td>\n",
       "      <td>1</td>\n",
       "      <td>0</td>\n",
       "      <td>54.223869</td>\n",
       "      <td>0</td>\n",
       "      <td>10</td>\n",
       "      <td>0</td>\n",
       "      <td>0</td>\n",
       "      <td>0</td>\n",
       "      <td>10.717321</td>\n",
       "      <td>5</td>\n",
       "    </tr>\n",
       "  </tbody>\n",
       "</table>\n",
       "</div>"
      ],
      "text/plain": [
       "   A1_Score  A2_Score  A3_Score  A4_Score  A5_Score  A6_Score  A7_Score  \\\n",
       "0         0         0         0         0         0         0         0   \n",
       "1         1         0         0         0         1         0         0   \n",
       "2         1         0         0         1         0         1         0   \n",
       "3         1         1         1         0         1         0         1   \n",
       "4         1         0         0         1         1         0         0   \n",
       "\n",
       "   A8_Score  A9_Score  A10_Score        age  gender  ethnicity  jaundice  \\\n",
       "0         1         0          0  13.445319       1          1         0   \n",
       "1         0         0          0  25.057229       0          0         1   \n",
       "2         1         0          0  28.799885       0          1         0   \n",
       "3         0         1          1  16.501526       0          5         1   \n",
       "4         1         1          0  54.223869       0         10         0   \n",
       "\n",
       "   autism  used_app_before     result  relation  \n",
       "0       0                0  -0.914467         0  \n",
       "1       0                0   4.553447         3  \n",
       "2       0                0  -1.581115         5  \n",
       "3       0                0  11.779210         4  \n",
       "4       0                0  10.717321         5  "
      ]
     },
     "execution_count": 57,
     "metadata": {},
     "output_type": "execute_result"
    }
   ],
   "source": [
    "X_test = test.drop(\"ID\", axis=1)\n",
    "X_test.head()"
   ]
  },
  {
   "cell_type": "code",
   "execution_count": 58,
   "id": "4c0bd65c",
   "metadata": {
    "execution": {
     "iopub.execute_input": "2023-05-30T09:31:31.436320Z",
     "iopub.status.busy": "2023-05-30T09:31:31.435670Z",
     "iopub.status.idle": "2023-05-30T09:31:31.593415Z",
     "shell.execute_reply": "2023-05-30T09:31:31.592765Z"
    },
    "papermill": {
     "duration": 0.183179,
     "end_time": "2023-05-30T09:31:31.595414",
     "exception": false,
     "start_time": "2023-05-30T09:31:31.412235",
     "status": "completed"
    },
    "tags": []
   },
   "outputs": [],
   "source": [
    "rf_classifier = RandomForestClassifier()\n",
    "rf_classifier.fit(X_train,Y_train)\n",
    "\n",
    "pred_rf = rf_classifier.predict(X_test)\n",
    "\n",
    "pred_rf=np.array(pred_rf)\n",
    "pred_rf=pd.DataFrame(pred_rf)"
   ]
  },
  {
   "cell_type": "code",
   "execution_count": 59,
   "id": "343c7a4e",
   "metadata": {
    "execution": {
     "iopub.execute_input": "2023-05-30T09:31:31.642459Z",
     "iopub.status.busy": "2023-05-30T09:31:31.642015Z",
     "iopub.status.idle": "2023-05-30T09:31:31.664168Z",
     "shell.execute_reply": "2023-05-30T09:31:31.663006Z"
    },
    "papermill": {
     "duration": 0.048047,
     "end_time": "2023-05-30T09:31:31.665991",
     "exception": false,
     "start_time": "2023-05-30T09:31:31.617944",
     "status": "completed"
    },
    "tags": []
   },
   "outputs": [
    {
     "data": {
      "text/html": [
       "<div>\n",
       "<style scoped>\n",
       "    .dataframe tbody tr th:only-of-type {\n",
       "        vertical-align: middle;\n",
       "    }\n",
       "\n",
       "    .dataframe tbody tr th {\n",
       "        vertical-align: top;\n",
       "    }\n",
       "\n",
       "    .dataframe thead th {\n",
       "        text-align: right;\n",
       "    }\n",
       "</style>\n",
       "<table border=\"1\" class=\"dataframe\">\n",
       "  <thead>\n",
       "    <tr style=\"text-align: right;\">\n",
       "      <th></th>\n",
       "      <th>ID</th>\n",
       "      <th>A1_Score</th>\n",
       "      <th>A2_Score</th>\n",
       "      <th>A3_Score</th>\n",
       "      <th>A4_Score</th>\n",
       "      <th>A5_Score</th>\n",
       "      <th>A6_Score</th>\n",
       "      <th>A7_Score</th>\n",
       "      <th>A8_Score</th>\n",
       "      <th>A9_Score</th>\n",
       "      <th>...</th>\n",
       "      <th>age</th>\n",
       "      <th>gender</th>\n",
       "      <th>ethnicity</th>\n",
       "      <th>jaundice</th>\n",
       "      <th>austim</th>\n",
       "      <th>contry_of_res</th>\n",
       "      <th>used_app_before</th>\n",
       "      <th>result</th>\n",
       "      <th>age_desc</th>\n",
       "      <th>relation</th>\n",
       "    </tr>\n",
       "  </thead>\n",
       "  <tbody>\n",
       "    <tr>\n",
       "      <th>0</th>\n",
       "      <td>1</td>\n",
       "      <td>0</td>\n",
       "      <td>0</td>\n",
       "      <td>0</td>\n",
       "      <td>0</td>\n",
       "      <td>0</td>\n",
       "      <td>0</td>\n",
       "      <td>0</td>\n",
       "      <td>1</td>\n",
       "      <td>0</td>\n",
       "      <td>...</td>\n",
       "      <td>13.445319</td>\n",
       "      <td>m</td>\n",
       "      <td>Asian</td>\n",
       "      <td>no</td>\n",
       "      <td>no</td>\n",
       "      <td>United Arab Emirates</td>\n",
       "      <td>no</td>\n",
       "      <td>-0.914467</td>\n",
       "      <td>18 and more</td>\n",
       "      <td>?</td>\n",
       "    </tr>\n",
       "    <tr>\n",
       "      <th>1</th>\n",
       "      <td>2</td>\n",
       "      <td>1</td>\n",
       "      <td>0</td>\n",
       "      <td>0</td>\n",
       "      <td>0</td>\n",
       "      <td>1</td>\n",
       "      <td>0</td>\n",
       "      <td>0</td>\n",
       "      <td>0</td>\n",
       "      <td>0</td>\n",
       "      <td>...</td>\n",
       "      <td>25.057229</td>\n",
       "      <td>f</td>\n",
       "      <td>?</td>\n",
       "      <td>yes</td>\n",
       "      <td>no</td>\n",
       "      <td>New Zealand</td>\n",
       "      <td>no</td>\n",
       "      <td>4.553447</td>\n",
       "      <td>18 and more</td>\n",
       "      <td>Parent</td>\n",
       "    </tr>\n",
       "    <tr>\n",
       "      <th>2</th>\n",
       "      <td>3</td>\n",
       "      <td>1</td>\n",
       "      <td>0</td>\n",
       "      <td>0</td>\n",
       "      <td>1</td>\n",
       "      <td>0</td>\n",
       "      <td>1</td>\n",
       "      <td>0</td>\n",
       "      <td>1</td>\n",
       "      <td>0</td>\n",
       "      <td>...</td>\n",
       "      <td>28.799885</td>\n",
       "      <td>f</td>\n",
       "      <td>Asian</td>\n",
       "      <td>no</td>\n",
       "      <td>no</td>\n",
       "      <td>Austria</td>\n",
       "      <td>no</td>\n",
       "      <td>-1.581115</td>\n",
       "      <td>18 and more</td>\n",
       "      <td>Self</td>\n",
       "    </tr>\n",
       "    <tr>\n",
       "      <th>3</th>\n",
       "      <td>4</td>\n",
       "      <td>1</td>\n",
       "      <td>1</td>\n",
       "      <td>1</td>\n",
       "      <td>0</td>\n",
       "      <td>1</td>\n",
       "      <td>0</td>\n",
       "      <td>1</td>\n",
       "      <td>0</td>\n",
       "      <td>1</td>\n",
       "      <td>...</td>\n",
       "      <td>16.501526</td>\n",
       "      <td>f</td>\n",
       "      <td>Middle Eastern</td>\n",
       "      <td>yes</td>\n",
       "      <td>no</td>\n",
       "      <td>Bahamas</td>\n",
       "      <td>no</td>\n",
       "      <td>11.779210</td>\n",
       "      <td>18 and more</td>\n",
       "      <td>Relative</td>\n",
       "    </tr>\n",
       "    <tr>\n",
       "      <th>4</th>\n",
       "      <td>5</td>\n",
       "      <td>1</td>\n",
       "      <td>0</td>\n",
       "      <td>0</td>\n",
       "      <td>1</td>\n",
       "      <td>1</td>\n",
       "      <td>0</td>\n",
       "      <td>0</td>\n",
       "      <td>1</td>\n",
       "      <td>1</td>\n",
       "      <td>...</td>\n",
       "      <td>54.223869</td>\n",
       "      <td>f</td>\n",
       "      <td>White-European</td>\n",
       "      <td>no</td>\n",
       "      <td>no</td>\n",
       "      <td>Australia</td>\n",
       "      <td>no</td>\n",
       "      <td>10.717321</td>\n",
       "      <td>18 and more</td>\n",
       "      <td>Self</td>\n",
       "    </tr>\n",
       "  </tbody>\n",
       "</table>\n",
       "<p>5 rows × 21 columns</p>\n",
       "</div>"
      ],
      "text/plain": [
       "   ID  A1_Score  A2_Score  A3_Score  A4_Score  A5_Score  A6_Score  A7_Score  \\\n",
       "0   1         0         0         0         0         0         0         0   \n",
       "1   2         1         0         0         0         1         0         0   \n",
       "2   3         1         0         0         1         0         1         0   \n",
       "3   4         1         1         1         0         1         0         1   \n",
       "4   5         1         0         0         1         1         0         0   \n",
       "\n",
       "   A8_Score  A9_Score  ...        age  gender        ethnicity jaundice  \\\n",
       "0         1         0  ...  13.445319       m            Asian       no   \n",
       "1         0         0  ...  25.057229       f                ?      yes   \n",
       "2         1         0  ...  28.799885       f            Asian       no   \n",
       "3         0         1  ...  16.501526       f  Middle Eastern       yes   \n",
       "4         1         1  ...  54.223869       f   White-European       no   \n",
       "\n",
       "  austim         contry_of_res used_app_before     result     age_desc  \\\n",
       "0     no  United Arab Emirates              no  -0.914467  18 and more   \n",
       "1     no           New Zealand              no   4.553447  18 and more   \n",
       "2     no               Austria              no  -1.581115  18 and more   \n",
       "3     no               Bahamas              no  11.779210  18 and more   \n",
       "4     no             Australia              no  10.717321  18 and more   \n",
       "\n",
       "   relation  \n",
       "0         ?  \n",
       "1    Parent  \n",
       "2      Self  \n",
       "3  Relative  \n",
       "4      Self  \n",
       "\n",
       "[5 rows x 21 columns]"
      ]
     },
     "execution_count": 59,
     "metadata": {},
     "output_type": "execute_result"
    }
   ],
   "source": [
    "test = pd.read_csv(\"../input/autism-prediction/Autism-prediction/test.csv\")\n",
    "test.head()"
   ]
  },
  {
   "cell_type": "code",
   "execution_count": 60,
   "id": "c89aa144",
   "metadata": {
    "execution": {
     "iopub.execute_input": "2023-05-30T09:31:31.714182Z",
     "iopub.status.busy": "2023-05-30T09:31:31.713730Z",
     "iopub.status.idle": "2023-05-30T09:31:31.720804Z",
     "shell.execute_reply": "2023-05-30T09:31:31.719754Z"
    },
    "papermill": {
     "duration": 0.032477,
     "end_time": "2023-05-30T09:31:31.722405",
     "exception": false,
     "start_time": "2023-05-30T09:31:31.689928",
     "status": "completed"
    },
    "tags": []
   },
   "outputs": [
    {
     "data": {
      "text/plain": [
       "(200, 1)"
      ]
     },
     "execution_count": 60,
     "metadata": {},
     "output_type": "execute_result"
    }
   ],
   "source": [
    "id1=np.array(test['ID'])\n",
    "id1=pd.DataFrame(id1)\n",
    "id1.shape"
   ]
  },
  {
   "cell_type": "code",
   "execution_count": 61,
   "id": "ee57e222",
   "metadata": {
    "execution": {
     "iopub.execute_input": "2023-05-30T09:31:31.770848Z",
     "iopub.status.busy": "2023-05-30T09:31:31.769772Z",
     "iopub.status.idle": "2023-05-30T09:31:31.780172Z",
     "shell.execute_reply": "2023-05-30T09:31:31.779048Z"
    },
    "papermill": {
     "duration": 0.036024,
     "end_time": "2023-05-30T09:31:31.781822",
     "exception": false,
     "start_time": "2023-05-30T09:31:31.745798",
     "status": "completed"
    },
    "tags": []
   },
   "outputs": [
    {
     "data": {
      "text/html": [
       "<div>\n",
       "<style scoped>\n",
       "    .dataframe tbody tr th:only-of-type {\n",
       "        vertical-align: middle;\n",
       "    }\n",
       "\n",
       "    .dataframe tbody tr th {\n",
       "        vertical-align: top;\n",
       "    }\n",
       "\n",
       "    .dataframe thead th {\n",
       "        text-align: right;\n",
       "    }\n",
       "</style>\n",
       "<table border=\"1\" class=\"dataframe\">\n",
       "  <thead>\n",
       "    <tr style=\"text-align: right;\">\n",
       "      <th></th>\n",
       "      <th>ID</th>\n",
       "      <th>Class/ASD</th>\n",
       "    </tr>\n",
       "  </thead>\n",
       "  <tbody>\n",
       "    <tr>\n",
       "      <th>0</th>\n",
       "      <td>1</td>\n",
       "      <td>0</td>\n",
       "    </tr>\n",
       "    <tr>\n",
       "      <th>1</th>\n",
       "      <td>2</td>\n",
       "      <td>0</td>\n",
       "    </tr>\n",
       "    <tr>\n",
       "      <th>2</th>\n",
       "      <td>3</td>\n",
       "      <td>0</td>\n",
       "    </tr>\n",
       "    <tr>\n",
       "      <th>3</th>\n",
       "      <td>4</td>\n",
       "      <td>1</td>\n",
       "    </tr>\n",
       "    <tr>\n",
       "      <th>4</th>\n",
       "      <td>5</td>\n",
       "      <td>0</td>\n",
       "    </tr>\n",
       "    <tr>\n",
       "      <th>...</th>\n",
       "      <td>...</td>\n",
       "      <td>...</td>\n",
       "    </tr>\n",
       "    <tr>\n",
       "      <th>195</th>\n",
       "      <td>196</td>\n",
       "      <td>0</td>\n",
       "    </tr>\n",
       "    <tr>\n",
       "      <th>196</th>\n",
       "      <td>197</td>\n",
       "      <td>1</td>\n",
       "    </tr>\n",
       "    <tr>\n",
       "      <th>197</th>\n",
       "      <td>198</td>\n",
       "      <td>1</td>\n",
       "    </tr>\n",
       "    <tr>\n",
       "      <th>198</th>\n",
       "      <td>199</td>\n",
       "      <td>1</td>\n",
       "    </tr>\n",
       "    <tr>\n",
       "      <th>199</th>\n",
       "      <td>200</td>\n",
       "      <td>1</td>\n",
       "    </tr>\n",
       "  </tbody>\n",
       "</table>\n",
       "<p>200 rows × 2 columns</p>\n",
       "</div>"
      ],
      "text/plain": [
       "      ID  Class/ASD\n",
       "0      1          0\n",
       "1      2          0\n",
       "2      3          0\n",
       "3      4          1\n",
       "4      5          0\n",
       "..   ...        ...\n",
       "195  196          0\n",
       "196  197          1\n",
       "197  198          1\n",
       "198  199          1\n",
       "199  200          1\n",
       "\n",
       "[200 rows x 2 columns]"
      ]
     },
     "execution_count": 61,
     "metadata": {},
     "output_type": "execute_result"
    }
   ],
   "source": [
    "output=pd.concat([id1,pred_rf], join='outer', axis=1)\n",
    "output.columns = ['ID', 'Class/ASD']\n",
    "output"
   ]
  },
  {
   "cell_type": "code",
   "execution_count": 62,
   "id": "8a24a0f3",
   "metadata": {
    "execution": {
     "iopub.execute_input": "2023-05-30T09:31:31.828640Z",
     "iopub.status.busy": "2023-05-30T09:31:31.827242Z",
     "iopub.status.idle": "2023-05-30T09:31:31.837562Z",
     "shell.execute_reply": "2023-05-30T09:31:31.836717Z"
    },
    "papermill": {
     "duration": 0.035549,
     "end_time": "2023-05-30T09:31:31.839681",
     "exception": false,
     "start_time": "2023-05-30T09:31:31.804132",
     "status": "completed"
    },
    "tags": []
   },
   "outputs": [],
   "source": [
    "output.to_csv(\"submission.csv\",index=False)"
   ]
  },
  {
   "cell_type": "code",
   "execution_count": null,
   "id": "e0850781",
   "metadata": {
    "papermill": {
     "duration": 0.022942,
     "end_time": "2023-05-30T09:31:31.887118",
     "exception": false,
     "start_time": "2023-05-30T09:31:31.864176",
     "status": "completed"
    },
    "tags": []
   },
   "outputs": [],
   "source": []
  }
 ],
 "metadata": {
  "kernelspec": {
   "display_name": "Python 3",
   "language": "python",
   "name": "python3"
  },
  "language_info": {
   "codemirror_mode": {
    "name": "ipython",
    "version": 3
   },
   "file_extension": ".py",
   "mimetype": "text/x-python",
   "name": "python",
   "nbconvert_exporter": "python",
   "pygments_lexer": "ipython3",
   "version": "3.10.10"
  },
  "papermill": {
   "default_parameters": {},
   "duration": 21.53953,
   "end_time": "2023-05-30T09:31:32.829451",
   "environment_variables": {},
   "exception": null,
   "input_path": "__notebook__.ipynb",
   "output_path": "__notebook__.ipynb",
   "parameters": {},
   "start_time": "2023-05-30T09:31:11.289921",
   "version": "2.4.0"
  }
 },
 "nbformat": 4,
 "nbformat_minor": 5
}
